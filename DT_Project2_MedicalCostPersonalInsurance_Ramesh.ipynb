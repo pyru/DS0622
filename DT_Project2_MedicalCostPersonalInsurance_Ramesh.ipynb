{
 "cells": [
  {
   "cell_type": "markdown",
   "id": "4331aaa4",
   "metadata": {},
   "source": [
    "# Medical Cost Personal Insurance Datasets\n",
    "Problem Statement:\n",
    "Insurance Forecast by using Regression Algorithms\n",
    "\n",
    "Health insurance is a type of insurance that covers medical expenses that arise due to an illness. These expenses could be related to hospitalisation costs, cost of medicines or doctor consultation fees. The main purpose of medical insurance is to receive the best medical care without any strain on your finances. Health insurance plans offer protection against high medical costs. It covers hospitalization expenses, day care procedures, domiciliary expenses, and ambulance charges, besides many others. Based on certain input features such as age , bmi,,no of dependents ,smoker ,region  medical insurance is calculated .\n",
    "\n",
    "Columns                                            \n",
    "\n",
    "·age: age of primary beneficiary\n",
    "\n",
    "·sex: insurance contractor gender, female, male\n",
    "\n",
    "·bmi: Body mass index, providing an understanding of body, weights that are relatively high or low relative to height, objective index of body weight (kg / m ^ 2) using the ratio of height to weight, ideally 18.5 to 24.9.\n",
    "\n",
    "·children: Number of children covered by health insurance / Number of dependents\n",
    "\n",
    "·smoker: Smoking\n",
    "\n",
    "·region: the beneficiary's residential area in the US, northeast, southeast, southwest, northwest.\n",
    "\n",
    "·charges: Individual medical costs billed by health insurance\n",
    "\n",
    "Predict : Charges  Can you accurately predict insurance costs?\n",
    "\n",
    "Downlaod Files:\n",
    "https://github.com/dsrscientist/dataset4\n",
    "https://github.com/dsrscientist/dataset4/blob/main/medical_cost_insurance.csv"
   ]
  },
  {
   "cell_type": "code",
   "execution_count": 1,
   "id": "49895caf",
   "metadata": {},
   "outputs": [
    {
     "data": {
      "text/html": [
       "<div>\n",
       "<style scoped>\n",
       "    .dataframe tbody tr th:only-of-type {\n",
       "        vertical-align: middle;\n",
       "    }\n",
       "\n",
       "    .dataframe tbody tr th {\n",
       "        vertical-align: top;\n",
       "    }\n",
       "\n",
       "    .dataframe thead th {\n",
       "        text-align: right;\n",
       "    }\n",
       "</style>\n",
       "<table border=\"1\" class=\"dataframe\">\n",
       "  <thead>\n",
       "    <tr style=\"text-align: right;\">\n",
       "      <th></th>\n",
       "      <th>age</th>\n",
       "      <th>sex</th>\n",
       "      <th>bmi</th>\n",
       "      <th>children</th>\n",
       "      <th>smoker</th>\n",
       "      <th>region</th>\n",
       "      <th>charges</th>\n",
       "    </tr>\n",
       "  </thead>\n",
       "  <tbody>\n",
       "    <tr>\n",
       "      <th>0</th>\n",
       "      <td>19</td>\n",
       "      <td>female</td>\n",
       "      <td>27.900</td>\n",
       "      <td>0</td>\n",
       "      <td>yes</td>\n",
       "      <td>southwest</td>\n",
       "      <td>16884.92400</td>\n",
       "    </tr>\n",
       "    <tr>\n",
       "      <th>1</th>\n",
       "      <td>18</td>\n",
       "      <td>male</td>\n",
       "      <td>33.770</td>\n",
       "      <td>1</td>\n",
       "      <td>no</td>\n",
       "      <td>southeast</td>\n",
       "      <td>1725.55230</td>\n",
       "    </tr>\n",
       "    <tr>\n",
       "      <th>2</th>\n",
       "      <td>28</td>\n",
       "      <td>male</td>\n",
       "      <td>33.000</td>\n",
       "      <td>3</td>\n",
       "      <td>no</td>\n",
       "      <td>southeast</td>\n",
       "      <td>4449.46200</td>\n",
       "    </tr>\n",
       "    <tr>\n",
       "      <th>3</th>\n",
       "      <td>33</td>\n",
       "      <td>male</td>\n",
       "      <td>22.705</td>\n",
       "      <td>0</td>\n",
       "      <td>no</td>\n",
       "      <td>northwest</td>\n",
       "      <td>21984.47061</td>\n",
       "    </tr>\n",
       "    <tr>\n",
       "      <th>4</th>\n",
       "      <td>32</td>\n",
       "      <td>male</td>\n",
       "      <td>28.880</td>\n",
       "      <td>0</td>\n",
       "      <td>no</td>\n",
       "      <td>northwest</td>\n",
       "      <td>3866.85520</td>\n",
       "    </tr>\n",
       "  </tbody>\n",
       "</table>\n",
       "</div>"
      ],
      "text/plain": [
       "   age     sex     bmi  children smoker     region      charges\n",
       "0   19  female  27.900         0    yes  southwest  16884.92400\n",
       "1   18    male  33.770         1     no  southeast   1725.55230\n",
       "2   28    male  33.000         3     no  southeast   4449.46200\n",
       "3   33    male  22.705         0     no  northwest  21984.47061\n",
       "4   32    male  28.880         0     no  northwest   3866.85520"
      ]
     },
     "execution_count": 1,
     "metadata": {},
     "output_type": "execute_result"
    }
   ],
   "source": [
    "import numpy as np\n",
    "import pandas as pd\n",
    "import seaborn as sns\n",
    "import matplotlib.pyplot as plt\n",
    "\n",
    "from sklearn.model_selection import train_test_split\n",
    "from sklearn.preprocessing import StandardScaler ,LabelEncoder\n",
    "from sklearn.metrics import mean_absolute_percentage_error as mape\n",
    "from sklearn.linear_model import LinearRegression, Lasso, Ridge\n",
    "from xgboost import XGBRegressor\n",
    "from sklearn.ensemble import RandomForestRegressor, AdaBoostRegressor\n",
    "from sklearn.metrics import mean_squared_error\n",
    "\n",
    "import warnings\n",
    "warnings.filterwarnings('ignore')\n",
    "\n",
    "#df =pd.read_csv('medical_cost_insurance.csv')\n",
    "df = pd.read_csv(\"https://raw.githubusercontent.com/dsrscientist/dataset4/main/medical_cost_insurance.csv\")\n",
    "df.head()"
   ]
  },
  {
   "cell_type": "code",
   "execution_count": 2,
   "id": "8a52d5af",
   "metadata": {},
   "outputs": [
    {
     "name": "stdout",
     "output_type": "stream",
     "text": [
      "<class 'pandas.core.frame.DataFrame'>\n",
      "RangeIndex: 1338 entries, 0 to 1337\n",
      "Data columns (total 7 columns):\n",
      " #   Column    Non-Null Count  Dtype  \n",
      "---  ------    --------------  -----  \n",
      " 0   age       1338 non-null   int64  \n",
      " 1   sex       1338 non-null   object \n",
      " 2   bmi       1338 non-null   float64\n",
      " 3   children  1338 non-null   int64  \n",
      " 4   smoker    1338 non-null   object \n",
      " 5   region    1338 non-null   object \n",
      " 6   charges   1338 non-null   float64\n",
      "dtypes: float64(2), int64(2), object(3)\n",
      "memory usage: 73.3+ KB\n",
      "\n"
     ]
    },
    {
     "data": {
      "text/plain": [
       "age           int64\n",
       "sex          object\n",
       "bmi         float64\n",
       "children      int64\n",
       "smoker       object\n",
       "region       object\n",
       "charges     float64\n",
       "dtype: object"
      ]
     },
     "execution_count": 2,
     "metadata": {},
     "output_type": "execute_result"
    }
   ],
   "source": [
    "df.info()\n",
    "print()\n",
    "df.dtypes"
   ]
  },
  {
   "cell_type": "code",
   "execution_count": 3,
   "id": "3d6bfdbf",
   "metadata": {},
   "outputs": [
    {
     "name": "stdout",
     "output_type": "stream",
     "text": [
      "Data details\n",
      " (1338, 7)\n",
      "\n",
      "\n",
      "All Columns \n",
      "  Index(['age', 'sex', 'bmi', 'children', 'smoker', 'region', 'charges'], dtype='object')\n",
      "\n",
      "\n",
      "Check for null values\n",
      " age         0\n",
      "sex         0\n",
      "bmi         0\n",
      "children    0\n",
      "smoker      0\n",
      "region      0\n",
      "charges     0\n",
      "dtype: int64\n",
      "\n",
      "\n",
      "Confirm null \n",
      " 0\n",
      "\n",
      "\n"
     ]
    }
   ],
   "source": [
    "print(\"Data details\\n\",df.shape)\n",
    "print(\"\\n\")\n",
    "\n",
    "print(\"All Columns \\n \",df.columns)\n",
    "print(\"\\n\")\n",
    "\n",
    "print(\"Check for null values\\n\",df.isnull().sum())\n",
    "print(\"\\n\")\n",
    "\n",
    "print(\"Confirm null \\n\",df.isnull().sum().sum())\n",
    "print(\"\\n\")"
   ]
  },
  {
   "cell_type": "code",
   "execution_count": 4,
   "id": "28b3fb8a",
   "metadata": {},
   "outputs": [
    {
     "data": {
      "text/html": [
       "<div>\n",
       "<style scoped>\n",
       "    .dataframe tbody tr th:only-of-type {\n",
       "        vertical-align: middle;\n",
       "    }\n",
       "\n",
       "    .dataframe tbody tr th {\n",
       "        vertical-align: top;\n",
       "    }\n",
       "\n",
       "    .dataframe thead th {\n",
       "        text-align: right;\n",
       "    }\n",
       "</style>\n",
       "<table border=\"1\" class=\"dataframe\">\n",
       "  <thead>\n",
       "    <tr style=\"text-align: right;\">\n",
       "      <th></th>\n",
       "      <th>age</th>\n",
       "      <th>bmi</th>\n",
       "      <th>children</th>\n",
       "      <th>charges</th>\n",
       "    </tr>\n",
       "  </thead>\n",
       "  <tbody>\n",
       "    <tr>\n",
       "      <th>count</th>\n",
       "      <td>1338.000000</td>\n",
       "      <td>1338.000000</td>\n",
       "      <td>1338.000000</td>\n",
       "      <td>1338.000000</td>\n",
       "    </tr>\n",
       "    <tr>\n",
       "      <th>mean</th>\n",
       "      <td>39.207025</td>\n",
       "      <td>30.663397</td>\n",
       "      <td>1.094918</td>\n",
       "      <td>13270.422265</td>\n",
       "    </tr>\n",
       "    <tr>\n",
       "      <th>std</th>\n",
       "      <td>14.049960</td>\n",
       "      <td>6.098187</td>\n",
       "      <td>1.205493</td>\n",
       "      <td>12110.011237</td>\n",
       "    </tr>\n",
       "    <tr>\n",
       "      <th>min</th>\n",
       "      <td>18.000000</td>\n",
       "      <td>15.960000</td>\n",
       "      <td>0.000000</td>\n",
       "      <td>1121.873900</td>\n",
       "    </tr>\n",
       "    <tr>\n",
       "      <th>25%</th>\n",
       "      <td>27.000000</td>\n",
       "      <td>26.296250</td>\n",
       "      <td>0.000000</td>\n",
       "      <td>4740.287150</td>\n",
       "    </tr>\n",
       "    <tr>\n",
       "      <th>50%</th>\n",
       "      <td>39.000000</td>\n",
       "      <td>30.400000</td>\n",
       "      <td>1.000000</td>\n",
       "      <td>9382.033000</td>\n",
       "    </tr>\n",
       "    <tr>\n",
       "      <th>75%</th>\n",
       "      <td>51.000000</td>\n",
       "      <td>34.693750</td>\n",
       "      <td>2.000000</td>\n",
       "      <td>16639.912515</td>\n",
       "    </tr>\n",
       "    <tr>\n",
       "      <th>max</th>\n",
       "      <td>64.000000</td>\n",
       "      <td>53.130000</td>\n",
       "      <td>5.000000</td>\n",
       "      <td>63770.428010</td>\n",
       "    </tr>\n",
       "  </tbody>\n",
       "</table>\n",
       "</div>"
      ],
      "text/plain": [
       "               age          bmi     children       charges\n",
       "count  1338.000000  1338.000000  1338.000000   1338.000000\n",
       "mean     39.207025    30.663397     1.094918  13270.422265\n",
       "std      14.049960     6.098187     1.205493  12110.011237\n",
       "min      18.000000    15.960000     0.000000   1121.873900\n",
       "25%      27.000000    26.296250     0.000000   4740.287150\n",
       "50%      39.000000    30.400000     1.000000   9382.033000\n",
       "75%      51.000000    34.693750     2.000000  16639.912515\n",
       "max      64.000000    53.130000     5.000000  63770.428010"
      ]
     },
     "execution_count": 4,
     "metadata": {},
     "output_type": "execute_result"
    }
   ],
   "source": [
    "df.describe()"
   ]
  },
  {
   "cell_type": "markdown",
   "id": "38976357",
   "metadata": {},
   "source": [
    "Observations:\n",
    "\n",
    "1.count is same for all columns hence no null values present\n",
    "\n",
    "2.Mean > Median for columns (Rightly skewed): 'age','bmi..however they are close to normal distribution as the difference is small\n",
    "    \n",
    "3.> difference between 75% && max for columns: 'bmi'..so outliers can exist"
   ]
  },
  {
   "cell_type": "code",
   "execution_count": 5,
   "id": "2b8d95ee",
   "metadata": {},
   "outputs": [
    {
     "data": {
      "text/html": [
       "<div>\n",
       "<style scoped>\n",
       "    .dataframe tbody tr th:only-of-type {\n",
       "        vertical-align: middle;\n",
       "    }\n",
       "\n",
       "    .dataframe tbody tr th {\n",
       "        vertical-align: top;\n",
       "    }\n",
       "\n",
       "    .dataframe thead th {\n",
       "        text-align: right;\n",
       "    }\n",
       "</style>\n",
       "<table border=\"1\" class=\"dataframe\">\n",
       "  <thead>\n",
       "    <tr style=\"text-align: right;\">\n",
       "      <th></th>\n",
       "      <th>sex</th>\n",
       "      <th>smoker</th>\n",
       "      <th>region</th>\n",
       "    </tr>\n",
       "  </thead>\n",
       "  <tbody>\n",
       "    <tr>\n",
       "      <th>count</th>\n",
       "      <td>1338</td>\n",
       "      <td>1338</td>\n",
       "      <td>1338</td>\n",
       "    </tr>\n",
       "    <tr>\n",
       "      <th>unique</th>\n",
       "      <td>2</td>\n",
       "      <td>2</td>\n",
       "      <td>4</td>\n",
       "    </tr>\n",
       "    <tr>\n",
       "      <th>top</th>\n",
       "      <td>male</td>\n",
       "      <td>no</td>\n",
       "      <td>southeast</td>\n",
       "    </tr>\n",
       "    <tr>\n",
       "      <th>freq</th>\n",
       "      <td>676</td>\n",
       "      <td>1064</td>\n",
       "      <td>364</td>\n",
       "    </tr>\n",
       "  </tbody>\n",
       "</table>\n",
       "</div>"
      ],
      "text/plain": [
       "         sex smoker     region\n",
       "count   1338   1338       1338\n",
       "unique     2      2          4\n",
       "top     male     no  southeast\n",
       "freq     676   1064        364"
      ]
     },
     "execution_count": 5,
     "metadata": {},
     "output_type": "execute_result"
    }
   ],
   "source": [
    "df.describe(include=['O'])"
   ]
  },
  {
   "cell_type": "markdown",
   "id": "586aa575",
   "metadata": {},
   "source": [
    "Observations:\n",
    "\n",
    "count is same -->no null values present\n",
    "\n",
    "Unique values--> in columns: sex : 2, smoker :2, region : 4\n",
    "                \n",
    "Mode of columns-->sex : male, smoker :no, region : southeast\n",
    "            \n",
    "Frequency of mode value of columns---> sex : 676, smoker :1064, region: 364"
   ]
  },
  {
   "cell_type": "markdown",
   "id": "e907f7db",
   "metadata": {},
   "source": [
    "# Data Visualization"
   ]
  },
  {
   "cell_type": "code",
   "execution_count": 6,
   "id": "1fb37aa3",
   "metadata": {},
   "outputs": [
    {
     "data": {
      "image/png": "[encoded data removed]",
      "text/plain": [
       "<Figure size 1440x720 with 3 Axes>"
      ]
     },
     "metadata": {},
     "output_type": "display_data"
    }
   ],
   "source": [
    "features =['sex','smoker','region']\n",
    "\n",
    "plt.subplots(figsize=(20,10))\n",
    "for i , col in enumerate(features):\n",
    "    plt.subplot(1,3,i+1)\n",
    "    \n",
    "    x= df[col].value_counts()\n",
    "    plt.pie(x.values,labels=x.index,autopct='%1.1f%%')\n",
    "plt.show()"
   ]
  },
  {
   "cell_type": "markdown",
   "id": "4d436f98",
   "metadata": {},
   "source": [
    "The data provided to us is equally distributed among the sex and the region columns but in the smoker column,\n",
    "we can observe a ratio of 80:20."
   ]
  },
  {
   "cell_type": "code",
   "execution_count": 7,
   "id": "0dd13911",
   "metadata": {},
   "outputs": [
    {
     "data": {
      "image/png": "[encoded data removed]",
      "text/plain": [
       "<Figure size 1440x1008 with 5 Axes>"
      ]
     },
     "metadata": {
      "needs_background": "light"
     },
     "output_type": "display_data"
    }
   ],
   "source": [
    "features = ['age','sex','children','smoker','region']\n",
    "plt.subplots(figsize=(20,14))\n",
    "for i, col in enumerate(features):\n",
    "    plt.subplot(3,2,i+1)\n",
    "    df.groupby(col).mean()['charges'].plot.bar()\n",
    "plt.show()"
   ]
  },
  {
   "cell_type": "markdown",
   "id": "957e2124",
   "metadata": {},
   "source": [
    "Observations\n",
    "\n",
    "Charges are on the higher side for males  but the difference is not that much.\n",
    "\n",
    "Premium charged from the smoker is around thrice charged from non-smokers.\n",
    "\n",
    "Charges are approximately the same in the given four regions."
   ]
  },
  {
   "cell_type": "code",
   "execution_count": 8,
   "id": "4beca073",
   "metadata": {},
   "outputs": [
    {
     "data": {
      "image/png": "[encoded data removed]",
      "text/plain": [
       "<Figure size 1224x504 with 2 Axes>"
      ]
     },
     "metadata": {
      "needs_background": "light"
     },
     "output_type": "display_data"
    }
   ],
   "source": [
    "features = ['age','bmi']\n",
    "plt.subplots(figsize=(17,7))\n",
    "for i ,col in enumerate(features):\n",
    "    plt.subplot(1,2,i+1)\n",
    "    sns.scatterplot(data=df,x=col,y='charges',hue='smoker')\n",
    "plt.show()"
   ]
  },
  {
   "cell_type": "markdown",
   "id": "5148e83b",
   "metadata": {},
   "source": [
    "observation\n",
    "\n",
    "premium prices increase with increase in age of a person "
   ]
  },
  {
   "cell_type": "code",
   "execution_count": 9,
   "id": "a5bada2e",
   "metadata": {},
   "outputs": [
    {
     "data": {
      "image/png": "[encoded data removed]",
      "text/plain": [
       "<Figure size 1224x504 with 2 Axes>"
      ]
     },
     "metadata": {
      "needs_background": "light"
     },
     "output_type": "display_data"
    }
   ],
   "source": [
    "features =['age','bmi']\n",
    "\n",
    "plt.subplots(figsize=(17,7))\n",
    "for i , col in enumerate(features):\n",
    "    plt.subplot(1,2,i+1)\n",
    "    sns.distplot(df[col])\n",
    "    \n",
    "plt.show()"
   ]
  },
  {
   "cell_type": "markdown",
   "id": "9be3fe99",
   "metadata": {},
   "source": [
    "The data of Age is not normalized.\n",
    "\n",
    "Distribution is out of the normalized curve."
   ]
  },
  {
   "cell_type": "code",
   "execution_count": 10,
   "id": "315f9e9c",
   "metadata": {},
   "outputs": [
    {
     "data": {
      "image/png": "[encoded data removed]",
      "text/plain": [
       "<Figure size 864x504 with 2 Axes>"
      ]
     },
     "metadata": {
      "needs_background": "light"
     },
     "output_type": "display_data"
    }
   ],
   "source": [
    "features = ['age','bmi']\n",
    "plt.subplots(figsize=(12,7))\n",
    "\n",
    "for i, col in enumerate(features):\n",
    "    plt.subplot(1,2,i+1)\n",
    "    sns.boxplot(df[col])\n",
    "\n",
    "plt.show()"
   ]
  },
  {
   "cell_type": "markdown",
   "id": "d799f953",
   "metadata": {},
   "source": [
    "outliers exist in the BMI column of the given dataset.\n",
    "\n",
    "we need to remove those outliers for BMI column"
   ]
  },
  {
   "cell_type": "code",
   "execution_count": 11,
   "id": "25c3343b",
   "metadata": {},
   "outputs": [
    {
     "name": "stdout",
     "output_type": "stream",
     "text": [
      "Value count of sex\n",
      "male      676\n",
      "female    662\n",
      "Name: sex, dtype: int64\n",
      "\n",
      "Value count of children\n",
      "0    574\n",
      "1    324\n",
      "2    240\n",
      "3    157\n",
      "4     25\n",
      "5     18\n",
      "Name: children, dtype: int64\n",
      "\n",
      "Value count of smoker\n",
      "no     1064\n",
      "yes     274\n",
      "Name: smoker, dtype: int64\n",
      "\n",
      "Value count of region\n",
      "southeast    364\n",
      "southwest    325\n",
      "northwest    325\n",
      "northeast    324\n",
      "Name: region, dtype: int64\n",
      "\n"
     ]
    },
    {
     "data": {
      "image/png": "[encoded data removed]",
      "text/plain": [
       "<Figure size 1368x648 with 4 Axes>"
      ]
     },
     "metadata": {
      "needs_background": "light"
     },
     "output_type": "display_data"
    }
   ],
   "source": [
    "features =['sex','children','smoker','region']\n",
    "\n",
    "plt.subplots(figsize=(19,9))\n",
    "for i , col in enumerate(features):\n",
    "    print(\"Value count of\",features[i])\n",
    "    print(df[col].value_counts())\n",
    "    print()\n",
    "    plt.subplot(2,2,i+1)\n",
    "    sns.countplot(df[col])\n",
    "    \n",
    "plt.show()"
   ]
  },
  {
   "cell_type": "markdown",
   "id": "e971c414",
   "metadata": {},
   "source": [
    "# Observations: \n",
    "\n",
    "Total no. of males are 676 and the total no. of females are 662\n",
    "\n",
    "Total no. of 0 dependents: 1, \n",
    "Total no. of 1 dependent: 324, \n",
    "Total no. of 2 dependents: 240, Total no. of 3 dependents: 157, Total no. of 4 dependents: 25, Total no. of 5 dependents: 18\n",
    "                \n",
    "Total no. of Smoker \"yes\" are 274 and the total no. of \"no\" smokers are 1064"
   ]
  },
  {
   "cell_type": "markdown",
   "id": "7b137df8",
   "metadata": {},
   "source": [
    "# Label Encoding of Categorical Data"
   ]
  },
  {
   "cell_type": "code",
   "execution_count": 12,
   "id": "b5923c7d",
   "metadata": {},
   "outputs": [
    {
     "data": {
      "text/html": [
       "<div>\n",
       "<style scoped>\n",
       "    .dataframe tbody tr th:only-of-type {\n",
       "        vertical-align: middle;\n",
       "    }\n",
       "\n",
       "    .dataframe tbody tr th {\n",
       "        vertical-align: top;\n",
       "    }\n",
       "\n",
       "    .dataframe thead th {\n",
       "        text-align: right;\n",
       "    }\n",
       "</style>\n",
       "<table border=\"1\" class=\"dataframe\">\n",
       "  <thead>\n",
       "    <tr style=\"text-align: right;\">\n",
       "      <th></th>\n",
       "      <th>age</th>\n",
       "      <th>sex</th>\n",
       "      <th>bmi</th>\n",
       "      <th>children</th>\n",
       "      <th>smoker</th>\n",
       "      <th>region</th>\n",
       "      <th>charges</th>\n",
       "    </tr>\n",
       "  </thead>\n",
       "  <tbody>\n",
       "    <tr>\n",
       "      <th>0</th>\n",
       "      <td>19</td>\n",
       "      <td>female</td>\n",
       "      <td>27.900</td>\n",
       "      <td>0</td>\n",
       "      <td>yes</td>\n",
       "      <td>southwest</td>\n",
       "      <td>16884.92400</td>\n",
       "    </tr>\n",
       "    <tr>\n",
       "      <th>1</th>\n",
       "      <td>18</td>\n",
       "      <td>male</td>\n",
       "      <td>33.770</td>\n",
       "      <td>1</td>\n",
       "      <td>no</td>\n",
       "      <td>southeast</td>\n",
       "      <td>1725.55230</td>\n",
       "    </tr>\n",
       "    <tr>\n",
       "      <th>2</th>\n",
       "      <td>28</td>\n",
       "      <td>male</td>\n",
       "      <td>33.000</td>\n",
       "      <td>3</td>\n",
       "      <td>no</td>\n",
       "      <td>southeast</td>\n",
       "      <td>4449.46200</td>\n",
       "    </tr>\n",
       "    <tr>\n",
       "      <th>3</th>\n",
       "      <td>33</td>\n",
       "      <td>male</td>\n",
       "      <td>22.705</td>\n",
       "      <td>0</td>\n",
       "      <td>no</td>\n",
       "      <td>northwest</td>\n",
       "      <td>21984.47061</td>\n",
       "    </tr>\n",
       "    <tr>\n",
       "      <th>4</th>\n",
       "      <td>32</td>\n",
       "      <td>male</td>\n",
       "      <td>28.880</td>\n",
       "      <td>0</td>\n",
       "      <td>no</td>\n",
       "      <td>northwest</td>\n",
       "      <td>3866.85520</td>\n",
       "    </tr>\n",
       "  </tbody>\n",
       "</table>\n",
       "</div>"
      ],
      "text/plain": [
       "   age     sex     bmi  children smoker     region      charges\n",
       "0   19  female  27.900         0    yes  southwest  16884.92400\n",
       "1   18    male  33.770         1     no  southeast   1725.55230\n",
       "2   28    male  33.000         3     no  southeast   4449.46200\n",
       "3   33    male  22.705         0     no  northwest  21984.47061\n",
       "4   32    male  28.880         0     no  northwest   3866.85520"
      ]
     },
     "execution_count": 12,
     "metadata": {},
     "output_type": "execute_result"
    }
   ],
   "source": [
    "df.head()"
   ]
  },
  {
   "cell_type": "code",
   "execution_count": 13,
   "id": "673aad36",
   "metadata": {},
   "outputs": [
    {
     "data": {
      "text/html": [
       "<div>\n",
       "<style scoped>\n",
       "    .dataframe tbody tr th:only-of-type {\n",
       "        vertical-align: middle;\n",
       "    }\n",
       "\n",
       "    .dataframe tbody tr th {\n",
       "        vertical-align: top;\n",
       "    }\n",
       "\n",
       "    .dataframe thead th {\n",
       "        text-align: right;\n",
       "    }\n",
       "</style>\n",
       "<table border=\"1\" class=\"dataframe\">\n",
       "  <thead>\n",
       "    <tr style=\"text-align: right;\">\n",
       "      <th></th>\n",
       "      <th>age</th>\n",
       "      <th>sex</th>\n",
       "      <th>bmi</th>\n",
       "      <th>children</th>\n",
       "      <th>smoker</th>\n",
       "      <th>region</th>\n",
       "      <th>charges</th>\n",
       "    </tr>\n",
       "  </thead>\n",
       "  <tbody>\n",
       "    <tr>\n",
       "      <th>0</th>\n",
       "      <td>19</td>\n",
       "      <td>0</td>\n",
       "      <td>27.900</td>\n",
       "      <td>0</td>\n",
       "      <td>1</td>\n",
       "      <td>3</td>\n",
       "      <td>16884.92400</td>\n",
       "    </tr>\n",
       "    <tr>\n",
       "      <th>1</th>\n",
       "      <td>18</td>\n",
       "      <td>1</td>\n",
       "      <td>33.770</td>\n",
       "      <td>1</td>\n",
       "      <td>0</td>\n",
       "      <td>2</td>\n",
       "      <td>1725.55230</td>\n",
       "    </tr>\n",
       "    <tr>\n",
       "      <th>2</th>\n",
       "      <td>28</td>\n",
       "      <td>1</td>\n",
       "      <td>33.000</td>\n",
       "      <td>3</td>\n",
       "      <td>0</td>\n",
       "      <td>2</td>\n",
       "      <td>4449.46200</td>\n",
       "    </tr>\n",
       "    <tr>\n",
       "      <th>3</th>\n",
       "      <td>33</td>\n",
       "      <td>1</td>\n",
       "      <td>22.705</td>\n",
       "      <td>0</td>\n",
       "      <td>0</td>\n",
       "      <td>1</td>\n",
       "      <td>21984.47061</td>\n",
       "    </tr>\n",
       "    <tr>\n",
       "      <th>4</th>\n",
       "      <td>32</td>\n",
       "      <td>1</td>\n",
       "      <td>28.880</td>\n",
       "      <td>0</td>\n",
       "      <td>0</td>\n",
       "      <td>1</td>\n",
       "      <td>3866.85520</td>\n",
       "    </tr>\n",
       "    <tr>\n",
       "      <th>...</th>\n",
       "      <td>...</td>\n",
       "      <td>...</td>\n",
       "      <td>...</td>\n",
       "      <td>...</td>\n",
       "      <td>...</td>\n",
       "      <td>...</td>\n",
       "      <td>...</td>\n",
       "    </tr>\n",
       "    <tr>\n",
       "      <th>1333</th>\n",
       "      <td>50</td>\n",
       "      <td>1</td>\n",
       "      <td>30.970</td>\n",
       "      <td>3</td>\n",
       "      <td>0</td>\n",
       "      <td>1</td>\n",
       "      <td>10600.54830</td>\n",
       "    </tr>\n",
       "    <tr>\n",
       "      <th>1334</th>\n",
       "      <td>18</td>\n",
       "      <td>0</td>\n",
       "      <td>31.920</td>\n",
       "      <td>0</td>\n",
       "      <td>0</td>\n",
       "      <td>0</td>\n",
       "      <td>2205.98080</td>\n",
       "    </tr>\n",
       "    <tr>\n",
       "      <th>1335</th>\n",
       "      <td>18</td>\n",
       "      <td>0</td>\n",
       "      <td>36.850</td>\n",
       "      <td>0</td>\n",
       "      <td>0</td>\n",
       "      <td>2</td>\n",
       "      <td>1629.83350</td>\n",
       "    </tr>\n",
       "    <tr>\n",
       "      <th>1336</th>\n",
       "      <td>21</td>\n",
       "      <td>0</td>\n",
       "      <td>25.800</td>\n",
       "      <td>0</td>\n",
       "      <td>0</td>\n",
       "      <td>3</td>\n",
       "      <td>2007.94500</td>\n",
       "    </tr>\n",
       "    <tr>\n",
       "      <th>1337</th>\n",
       "      <td>61</td>\n",
       "      <td>0</td>\n",
       "      <td>29.070</td>\n",
       "      <td>0</td>\n",
       "      <td>1</td>\n",
       "      <td>1</td>\n",
       "      <td>29141.36030</td>\n",
       "    </tr>\n",
       "  </tbody>\n",
       "</table>\n",
       "<p>1338 rows × 7 columns</p>\n",
       "</div>"
      ],
      "text/plain": [
       "      age  sex     bmi  children  smoker  region      charges\n",
       "0      19    0  27.900         0       1       3  16884.92400\n",
       "1      18    1  33.770         1       0       2   1725.55230\n",
       "2      28    1  33.000         3       0       2   4449.46200\n",
       "3      33    1  22.705         0       0       1  21984.47061\n",
       "4      32    1  28.880         0       0       1   3866.85520\n",
       "...   ...  ...     ...       ...     ...     ...          ...\n",
       "1333   50    1  30.970         3       0       1  10600.54830\n",
       "1334   18    0  31.920         0       0       0   2205.98080\n",
       "1335   18    0  36.850         0       0       2   1629.83350\n",
       "1336   21    0  25.800         0       0       3   2007.94500\n",
       "1337   61    0  29.070         0       1       1  29141.36030\n",
       "\n",
       "[1338 rows x 7 columns]"
      ]
     },
     "execution_count": 13,
     "metadata": {},
     "output_type": "execute_result"
    }
   ],
   "source": [
    "from sklearn.preprocessing import LabelEncoder\n",
    "le=LabelEncoder()\n",
    "for col in df.columns:\n",
    "    if df[col].dtype == object:\n",
    "        df[col] = le.fit_transform(df[col])\n",
    "\n",
    "df"
   ]
  },
  {
   "cell_type": "markdown",
   "id": "64bc97a8",
   "metadata": {},
   "source": [
    "# Check for correlation of data"
   ]
  },
  {
   "cell_type": "code",
   "execution_count": 14,
   "id": "92b83e9c",
   "metadata": {},
   "outputs": [
    {
     "data": {
      "image/png": "[encoded data removed]",
      "text/plain": [
       "<Figure size 504x504 with 1 Axes>"
      ]
     },
     "metadata": {
      "needs_background": "light"
     },
     "output_type": "display_data"
    }
   ],
   "source": [
    "plt.figure(figsize =(7,7))\n",
    "\n",
    "sns.heatmap(df.corr() > 0.8, annot =True, cbar =False)\n",
    "plt.show()\n"
   ]
  },
  {
   "cell_type": "markdown",
   "id": "0530475a",
   "metadata": {},
   "source": [
    "From the above heatmap, it is certain that there are no highly correlated features in it."
   ]
  },
  {
   "cell_type": "code",
   "execution_count": 15,
   "id": "628246f5",
   "metadata": {},
   "outputs": [
    {
     "data": {
      "image/png": "[encoded data removed]",
      "text/plain": [
       "<Figure size 576x288 with 1 Axes>"
      ]
     },
     "metadata": {
      "needs_background": "light"
     },
     "output_type": "display_data"
    }
   ],
   "source": [
    "corr_r=df.corr()\n",
    "plt.figure(figsize=(8,4))\n",
    "corr_r[\"charges\"].sort_values(ascending=False).plot(kind=\"bar\",color=\"c\")\n",
    "plt.xlabel(\"Feature\",fontsize=14)\n",
    "plt.ylabel(\"Column with target names\",fontsize=14)\n",
    "plt.title(\"Corrleation\",fontsize=14)\n",
    "plt.show()"
   ]
  },
  {
   "cell_type": "markdown",
   "id": "3ce9ec69",
   "metadata": {},
   "source": [
    "Observations: (Correlation of Target variable with features)\n",
    "\n",
    "\"region\" has almost zero correlation with target variable \"charges\" Max correlation: smoker Min correlation: age"
   ]
  },
  {
   "cell_type": "code",
   "execution_count": 16,
   "id": "308a3d37",
   "metadata": {},
   "outputs": [
    {
     "data": {
      "image/png": "[encoded data removed]",
      "text/plain": [
       "<Figure size 720x432 with 2 Axes>"
      ]
     },
     "metadata": {
      "needs_background": "light"
     },
     "output_type": "display_data"
    }
   ],
   "source": [
    "corr_r=df.corr()\n",
    "plt.figure(figsize=(10,6))\n",
    "sns.heatmap(corr_r,cmap=\"tab20\",annot=True)\n",
    "plt.title(\"Correlation Matrix\")\n",
    "plt.show()"
   ]
  },
  {
   "cell_type": "markdown",
   "id": "7e8ff551",
   "metadata": {},
   "source": [
    "# Data Pre-Processing"
   ]
  },
  {
   "cell_type": "code",
   "execution_count": 17,
   "id": "e7a6dac2",
   "metadata": {},
   "outputs": [
    {
     "name": "stdout",
     "output_type": "stream",
     "text": [
      "Columns \n",
      " Index(['age', 'sex', 'bmi', 'children', 'smoker', 'region', 'charges'], dtype='object')\n"
     ]
    },
    {
     "data": {
      "text/html": [
       "<div>\n",
       "<style scoped>\n",
       "    .dataframe tbody tr th:only-of-type {\n",
       "        vertical-align: middle;\n",
       "    }\n",
       "\n",
       "    .dataframe tbody tr th {\n",
       "        vertical-align: top;\n",
       "    }\n",
       "\n",
       "    .dataframe thead th {\n",
       "        text-align: right;\n",
       "    }\n",
       "</style>\n",
       "<table border=\"1\" class=\"dataframe\">\n",
       "  <thead>\n",
       "    <tr style=\"text-align: right;\">\n",
       "      <th></th>\n",
       "      <th>age</th>\n",
       "      <th>sex</th>\n",
       "      <th>bmi</th>\n",
       "      <th>children</th>\n",
       "      <th>smoker</th>\n",
       "      <th>region</th>\n",
       "    </tr>\n",
       "  </thead>\n",
       "  <tbody>\n",
       "    <tr>\n",
       "      <th>0</th>\n",
       "      <td>19</td>\n",
       "      <td>0</td>\n",
       "      <td>27.900</td>\n",
       "      <td>0</td>\n",
       "      <td>1</td>\n",
       "      <td>3</td>\n",
       "    </tr>\n",
       "    <tr>\n",
       "      <th>1</th>\n",
       "      <td>18</td>\n",
       "      <td>1</td>\n",
       "      <td>33.770</td>\n",
       "      <td>1</td>\n",
       "      <td>0</td>\n",
       "      <td>2</td>\n",
       "    </tr>\n",
       "    <tr>\n",
       "      <th>2</th>\n",
       "      <td>28</td>\n",
       "      <td>1</td>\n",
       "      <td>33.000</td>\n",
       "      <td>3</td>\n",
       "      <td>0</td>\n",
       "      <td>2</td>\n",
       "    </tr>\n",
       "    <tr>\n",
       "      <th>3</th>\n",
       "      <td>33</td>\n",
       "      <td>1</td>\n",
       "      <td>22.705</td>\n",
       "      <td>0</td>\n",
       "      <td>0</td>\n",
       "      <td>1</td>\n",
       "    </tr>\n",
       "    <tr>\n",
       "      <th>4</th>\n",
       "      <td>32</td>\n",
       "      <td>1</td>\n",
       "      <td>28.880</td>\n",
       "      <td>0</td>\n",
       "      <td>0</td>\n",
       "      <td>1</td>\n",
       "    </tr>\n",
       "    <tr>\n",
       "      <th>...</th>\n",
       "      <td>...</td>\n",
       "      <td>...</td>\n",
       "      <td>...</td>\n",
       "      <td>...</td>\n",
       "      <td>...</td>\n",
       "      <td>...</td>\n",
       "    </tr>\n",
       "    <tr>\n",
       "      <th>1333</th>\n",
       "      <td>50</td>\n",
       "      <td>1</td>\n",
       "      <td>30.970</td>\n",
       "      <td>3</td>\n",
       "      <td>0</td>\n",
       "      <td>1</td>\n",
       "    </tr>\n",
       "    <tr>\n",
       "      <th>1334</th>\n",
       "      <td>18</td>\n",
       "      <td>0</td>\n",
       "      <td>31.920</td>\n",
       "      <td>0</td>\n",
       "      <td>0</td>\n",
       "      <td>0</td>\n",
       "    </tr>\n",
       "    <tr>\n",
       "      <th>1335</th>\n",
       "      <td>18</td>\n",
       "      <td>0</td>\n",
       "      <td>36.850</td>\n",
       "      <td>0</td>\n",
       "      <td>0</td>\n",
       "      <td>2</td>\n",
       "    </tr>\n",
       "    <tr>\n",
       "      <th>1336</th>\n",
       "      <td>21</td>\n",
       "      <td>0</td>\n",
       "      <td>25.800</td>\n",
       "      <td>0</td>\n",
       "      <td>0</td>\n",
       "      <td>3</td>\n",
       "    </tr>\n",
       "    <tr>\n",
       "      <th>1337</th>\n",
       "      <td>61</td>\n",
       "      <td>0</td>\n",
       "      <td>29.070</td>\n",
       "      <td>0</td>\n",
       "      <td>1</td>\n",
       "      <td>1</td>\n",
       "    </tr>\n",
       "  </tbody>\n",
       "</table>\n",
       "<p>1338 rows × 6 columns</p>\n",
       "</div>"
      ],
      "text/plain": [
       "      age  sex     bmi  children  smoker  region\n",
       "0      19    0  27.900         0       1       3\n",
       "1      18    1  33.770         1       0       2\n",
       "2      28    1  33.000         3       0       2\n",
       "3      33    1  22.705         0       0       1\n",
       "4      32    1  28.880         0       0       1\n",
       "...   ...  ...     ...       ...     ...     ...\n",
       "1333   50    1  30.970         3       0       1\n",
       "1334   18    0  31.920         0       0       0\n",
       "1335   18    0  36.850         0       0       2\n",
       "1336   21    0  25.800         0       0       3\n",
       "1337   61    0  29.070         0       1       1\n",
       "\n",
       "[1338 rows x 6 columns]"
      ]
     },
     "metadata": {},
     "output_type": "display_data"
    },
    {
     "name": "stdout",
     "output_type": "stream",
     "text": [
      "\n",
      "\n"
     ]
    },
    {
     "data": {
      "text/plain": [
       "0       16884.92400\n",
       "1        1725.55230\n",
       "2        4449.46200\n",
       "3       21984.47061\n",
       "4        3866.85520\n",
       "           ...     \n",
       "1333    10600.54830\n",
       "1334     2205.98080\n",
       "1335     1629.83350\n",
       "1336     2007.94500\n",
       "1337    29141.36030\n",
       "Name: charges, Length: 1338, dtype: float64"
      ]
     },
     "metadata": {},
     "output_type": "display_data"
    }
   ],
   "source": [
    "print(\"Columns \\n\",df.columns)\n",
    "features=df.drop(\"charges\",axis=1)\n",
    "display(features)\n",
    "print(\"\\n\")\n",
    "target=df[\"charges\"]\n",
    "display(target)"
   ]
  },
  {
   "cell_type": "markdown",
   "id": "81072766",
   "metadata": {},
   "source": [
    "# Verify Skewness "
   ]
  },
  {
   "cell_type": "code",
   "execution_count": 18,
   "id": "8d02e8b6",
   "metadata": {},
   "outputs": [
    {
     "data": {
      "text/plain": [
       "charges     1.515880\n",
       "smoker      1.464766\n",
       "children    0.938380\n",
       "bmi         0.284047\n",
       "age         0.055673\n",
       "sex        -0.020951\n",
       "region     -0.038101\n",
       "dtype: float64"
      ]
     },
     "execution_count": 18,
     "metadata": {},
     "output_type": "execute_result"
    }
   ],
   "source": [
    "df.skew().sort_values(ascending=False)"
   ]
  },
  {
   "cell_type": "markdown",
   "id": "19ee02c4",
   "metadata": {},
   "source": [
    "Observations: \n",
    "    \n",
    "Skewness range: (+0.28,-0.28)\n",
    "\n",
    "Below are the variables age ,bmi--> Continuous sex,children,smoker, region -->Categorical\n",
    "\n",
    "charges -->Target Variable --> Max skewness @ bmi: 0.284047 -->Min skewness @ age: 0.055673 ------> We don't remove skewness for X categorical columns and for target variable"
   ]
  },
  {
   "cell_type": "code",
   "execution_count": 19,
   "id": "ba79877c",
   "metadata": {},
   "outputs": [
    {
     "data": {
      "text/html": [
       "<div>\n",
       "<style scoped>\n",
       "    .dataframe tbody tr th:only-of-type {\n",
       "        vertical-align: middle;\n",
       "    }\n",
       "\n",
       "    .dataframe tbody tr th {\n",
       "        vertical-align: top;\n",
       "    }\n",
       "\n",
       "    .dataframe thead th {\n",
       "        text-align: right;\n",
       "    }\n",
       "</style>\n",
       "<table border=\"1\" class=\"dataframe\">\n",
       "  <thead>\n",
       "    <tr style=\"text-align: right;\">\n",
       "      <th></th>\n",
       "      <th>skew</th>\n",
       "      <th>kurtosis</th>\n",
       "    </tr>\n",
       "  </thead>\n",
       "  <tbody>\n",
       "    <tr>\n",
       "      <th>age</th>\n",
       "      <td>0.055673</td>\n",
       "      <td>-1.245088</td>\n",
       "    </tr>\n",
       "    <tr>\n",
       "      <th>sex</th>\n",
       "      <td>-0.020951</td>\n",
       "      <td>-2.002557</td>\n",
       "    </tr>\n",
       "    <tr>\n",
       "      <th>bmi</th>\n",
       "      <td>0.284047</td>\n",
       "      <td>-0.050732</td>\n",
       "    </tr>\n",
       "    <tr>\n",
       "      <th>children</th>\n",
       "      <td>0.938380</td>\n",
       "      <td>0.202454</td>\n",
       "    </tr>\n",
       "    <tr>\n",
       "      <th>smoker</th>\n",
       "      <td>1.464766</td>\n",
       "      <td>0.145756</td>\n",
       "    </tr>\n",
       "    <tr>\n",
       "      <th>region</th>\n",
       "      <td>-0.038101</td>\n",
       "      <td>-1.327702</td>\n",
       "    </tr>\n",
       "    <tr>\n",
       "      <th>charges</th>\n",
       "      <td>1.515880</td>\n",
       "      <td>1.606299</td>\n",
       "    </tr>\n",
       "  </tbody>\n",
       "</table>\n",
       "</div>"
      ],
      "text/plain": [
       "              skew  kurtosis\n",
       "age       0.055673 -1.245088\n",
       "sex      -0.020951 -2.002557\n",
       "bmi       0.284047 -0.050732\n",
       "children  0.938380  0.202454\n",
       "smoker    1.464766  0.145756\n",
       "region   -0.038101 -1.327702\n",
       "charges   1.515880  1.606299"
      ]
     },
     "execution_count": 19,
     "metadata": {},
     "output_type": "execute_result"
    }
   ],
   "source": [
    "df.agg(['skew', 'kurtosis']).transpose()"
   ]
  },
  {
   "cell_type": "markdown",
   "id": "15128536",
   "metadata": {},
   "source": [
    "skewness can be interpreted\n",
    "\n",
    "Fairly Symmetrical -0.5 to 0.5\n",
    "\n",
    "Moderate Skewed -0.5 to -1.0 and 0.5 to 1.0\n",
    "\n",
    "Highly Skewed < -1.0 and > 1.0"
   ]
  },
  {
   "cell_type": "markdown",
   "id": "e4132a96",
   "metadata": {},
   "source": [
    "# Checking Outliers"
   ]
  },
  {
   "cell_type": "code",
   "execution_count": 20,
   "id": "78d76e78",
   "metadata": {},
   "outputs": [
    {
     "data": {
      "image/png": "[encoded data removed]",
      "text/plain": [
       "<Figure size 1296x864 with 12 Axes>"
      ]
     },
     "metadata": {
      "needs_background": "light"
     },
     "output_type": "display_data"
    }
   ],
   "source": [
    "df.plot(kind=\"box\",subplots=True,layout=(2,6),fontsize=14,figsize=(18,12))\n",
    "plt.show()"
   ]
  },
  {
   "cell_type": "markdown",
   "id": "aff4a996",
   "metadata": {},
   "source": [
    "Observations: \n",
    "\n",
    "Outliers present in 'bmi'"
   ]
  },
  {
   "cell_type": "markdown",
   "id": "a787bf05",
   "metadata": {},
   "source": [
    "# Removing Outliers"
   ]
  },
  {
   "cell_type": "code",
   "execution_count": 21,
   "id": "dbad1e5e",
   "metadata": {},
   "outputs": [
    {
     "data": {
      "text/plain": [
       "((1338, 6), (1338,))"
      ]
     },
     "execution_count": 21,
     "metadata": {},
     "output_type": "execute_result"
    }
   ],
   "source": [
    "#Removing Outliers\n",
    "from scipy.stats import zscore\n",
    "z=np.abs(zscore(features))\n",
    "threshold=3\n",
    "np.where(z>3)\n",
    "\n",
    "features.shape,target.shape\n",
    "#print(len(features))"
   ]
  },
  {
   "cell_type": "code",
   "execution_count": 22,
   "id": "ad1198ea",
   "metadata": {},
   "outputs": [
    {
     "data": {
      "text/plain": [
       "((1316, 6), (1316,))"
      ]
     },
     "execution_count": 22,
     "metadata": {},
     "output_type": "execute_result"
    }
   ],
   "source": [
    "features_new=features[(z<3).all(axis=1)]\n",
    "target_new=target[(z<3).all(axis=1)]\n",
    "#print(len(features_new))\n",
    "features=features_new\n",
    "target=target_new\n",
    "\n",
    "(np.abs(zscore(features))<3).all().all()\n",
    "features.shape,target.shape"
   ]
  },
  {
   "cell_type": "code",
   "execution_count": 23,
   "id": "dbcadf03",
   "metadata": {},
   "outputs": [
    {
     "data": {
      "text/plain": [
       "1.6442451420029895"
      ]
     },
     "execution_count": 23,
     "metadata": {},
     "output_type": "execute_result"
    }
   ],
   "source": [
    "loss_percent=(len(df)-len(features_new))/len(df)*100\n",
    "loss_percent"
   ]
  },
  {
   "cell_type": "markdown",
   "id": "b68f0f2a",
   "metadata": {},
   "source": [
    "Observations: \n",
    "\n",
    "Data loss is less than 10% hence it is acceptable"
   ]
  },
  {
   "cell_type": "markdown",
   "id": "c62632ed",
   "metadata": {},
   "source": [
    "# Transforming data to remove skewness"
   ]
  },
  {
   "cell_type": "code",
   "execution_count": 24,
   "id": "b7271d5c",
   "metadata": {},
   "outputs": [
    {
     "data": {
      "text/html": [
       "<div>\n",
       "<style scoped>\n",
       "    .dataframe tbody tr th:only-of-type {\n",
       "        vertical-align: middle;\n",
       "    }\n",
       "\n",
       "    .dataframe tbody tr th {\n",
       "        vertical-align: top;\n",
       "    }\n",
       "\n",
       "    .dataframe thead th {\n",
       "        text-align: right;\n",
       "    }\n",
       "</style>\n",
       "<table border=\"1\" class=\"dataframe\">\n",
       "  <thead>\n",
       "    <tr style=\"text-align: right;\">\n",
       "      <th></th>\n",
       "      <th>age</th>\n",
       "      <th>bmi</th>\n",
       "    </tr>\n",
       "  </thead>\n",
       "  <tbody>\n",
       "    <tr>\n",
       "      <th>0</th>\n",
       "      <td>2.944439</td>\n",
       "      <td>3.328627</td>\n",
       "    </tr>\n",
       "    <tr>\n",
       "      <th>1</th>\n",
       "      <td>2.890372</td>\n",
       "      <td>3.519573</td>\n",
       "    </tr>\n",
       "    <tr>\n",
       "      <th>2</th>\n",
       "      <td>3.332205</td>\n",
       "      <td>3.496508</td>\n",
       "    </tr>\n",
       "    <tr>\n",
       "      <th>3</th>\n",
       "      <td>3.496508</td>\n",
       "      <td>3.122585</td>\n",
       "    </tr>\n",
       "    <tr>\n",
       "      <th>4</th>\n",
       "      <td>3.465736</td>\n",
       "      <td>3.363149</td>\n",
       "    </tr>\n",
       "    <tr>\n",
       "      <th>...</th>\n",
       "      <td>...</td>\n",
       "      <td>...</td>\n",
       "    </tr>\n",
       "    <tr>\n",
       "      <th>1311</th>\n",
       "      <td>3.912023</td>\n",
       "      <td>3.433019</td>\n",
       "    </tr>\n",
       "    <tr>\n",
       "      <th>1312</th>\n",
       "      <td>2.890372</td>\n",
       "      <td>3.463233</td>\n",
       "    </tr>\n",
       "    <tr>\n",
       "      <th>1313</th>\n",
       "      <td>2.890372</td>\n",
       "      <td>3.606856</td>\n",
       "    </tr>\n",
       "    <tr>\n",
       "      <th>1314</th>\n",
       "      <td>3.044522</td>\n",
       "      <td>3.250374</td>\n",
       "    </tr>\n",
       "    <tr>\n",
       "      <th>1315</th>\n",
       "      <td>4.110874</td>\n",
       "      <td>3.369707</td>\n",
       "    </tr>\n",
       "  </tbody>\n",
       "</table>\n",
       "<p>1316 rows × 2 columns</p>\n",
       "</div>"
      ],
      "text/plain": [
       "           age       bmi\n",
       "0     2.944439  3.328627\n",
       "1     2.890372  3.519573\n",
       "2     3.332205  3.496508\n",
       "3     3.496508  3.122585\n",
       "4     3.465736  3.363149\n",
       "...        ...       ...\n",
       "1311  3.912023  3.433019\n",
       "1312  2.890372  3.463233\n",
       "1313  2.890372  3.606856\n",
       "1314  3.044522  3.250374\n",
       "1315  4.110874  3.369707\n",
       "\n",
       "[1316 rows x 2 columns]"
      ]
     },
     "execution_count": 24,
     "metadata": {},
     "output_type": "execute_result"
    }
   ],
   "source": [
    "# Method1: Using BoxCox Method\n",
    "from scipy.stats import boxcox\n",
    "x1=pd.DataFrame()\n",
    "x1['age']=boxcox(features['age'],0)\n",
    "x1['bmi']=boxcox(features['bmi'],0)\n",
    "x1"
   ]
  },
  {
   "cell_type": "code",
   "execution_count": 25,
   "id": "9615e68e",
   "metadata": {},
   "outputs": [
    {
     "data": {
      "text/plain": [
       "bmi   -0.307966\n",
       "age   -0.378323\n",
       "dtype: float64"
      ]
     },
     "execution_count": 25,
     "metadata": {},
     "output_type": "execute_result"
    }
   ],
   "source": [
    "x1.skew().sort_values(ascending=False)"
   ]
  },
  {
   "cell_type": "markdown",
   "id": "136de192",
   "metadata": {},
   "source": [
    "Observations: \n",
    "\n",
    "Skewness range: (+0.38,-0.38)\n",
    "\n",
    "charges 1.515880 smoker 1.464766 children 0.938380 bmi 0.284047 age 0.055673 sex -0.020951 region -0.038101"
   ]
  },
  {
   "cell_type": "code",
   "execution_count": 26,
   "id": "bdbd1642",
   "metadata": {},
   "outputs": [
    {
     "data": {
      "text/plain": [
       "bmi   -0.307966\n",
       "age   -0.378323\n",
       "dtype: float64"
      ]
     },
     "execution_count": 26,
     "metadata": {},
     "output_type": "execute_result"
    }
   ],
   "source": [
    "# Method2: Log transformation using numpy\n",
    "import numpy as np\n",
    "x2=pd.DataFrame()\n",
    "x2['age']=np.log(features['age'])\n",
    "x2['bmi']=np.log(features['bmi'])\n",
    "#x2.head(10)\n",
    "x2.skew().sort_values(ascending=False)"
   ]
  },
  {
   "cell_type": "code",
   "execution_count": 27,
   "id": "263d2c0d",
   "metadata": {},
   "outputs": [
    {
     "data": {
      "text/html": [
       "<div>\n",
       "<style scoped>\n",
       "    .dataframe tbody tr th:only-of-type {\n",
       "        vertical-align: middle;\n",
       "    }\n",
       "\n",
       "    .dataframe tbody tr th {\n",
       "        vertical-align: top;\n",
       "    }\n",
       "\n",
       "    .dataframe thead th {\n",
       "        text-align: right;\n",
       "    }\n",
       "</style>\n",
       "<table border=\"1\" class=\"dataframe\">\n",
       "  <thead>\n",
       "    <tr style=\"text-align: right;\">\n",
       "      <th></th>\n",
       "      <th>age</th>\n",
       "      <th>bmi</th>\n",
       "    </tr>\n",
       "  </thead>\n",
       "  <tbody>\n",
       "    <tr>\n",
       "      <th>0</th>\n",
       "      <td>19</td>\n",
       "      <td>27.900</td>\n",
       "    </tr>\n",
       "    <tr>\n",
       "      <th>1</th>\n",
       "      <td>18</td>\n",
       "      <td>33.770</td>\n",
       "    </tr>\n",
       "    <tr>\n",
       "      <th>2</th>\n",
       "      <td>28</td>\n",
       "      <td>33.000</td>\n",
       "    </tr>\n",
       "    <tr>\n",
       "      <th>3</th>\n",
       "      <td>33</td>\n",
       "      <td>22.705</td>\n",
       "    </tr>\n",
       "    <tr>\n",
       "      <th>4</th>\n",
       "      <td>32</td>\n",
       "      <td>28.880</td>\n",
       "    </tr>\n",
       "    <tr>\n",
       "      <th>...</th>\n",
       "      <td>...</td>\n",
       "      <td>...</td>\n",
       "    </tr>\n",
       "    <tr>\n",
       "      <th>1333</th>\n",
       "      <td>50</td>\n",
       "      <td>30.970</td>\n",
       "    </tr>\n",
       "    <tr>\n",
       "      <th>1334</th>\n",
       "      <td>18</td>\n",
       "      <td>31.920</td>\n",
       "    </tr>\n",
       "    <tr>\n",
       "      <th>1335</th>\n",
       "      <td>18</td>\n",
       "      <td>36.850</td>\n",
       "    </tr>\n",
       "    <tr>\n",
       "      <th>1336</th>\n",
       "      <td>21</td>\n",
       "      <td>25.800</td>\n",
       "    </tr>\n",
       "    <tr>\n",
       "      <th>1337</th>\n",
       "      <td>61</td>\n",
       "      <td>29.070</td>\n",
       "    </tr>\n",
       "  </tbody>\n",
       "</table>\n",
       "<p>1316 rows × 2 columns</p>\n",
       "</div>"
      ],
      "text/plain": [
       "      age     bmi\n",
       "0      19  27.900\n",
       "1      18  33.770\n",
       "2      28  33.000\n",
       "3      33  22.705\n",
       "4      32  28.880\n",
       "...   ...     ...\n",
       "1333   50  30.970\n",
       "1334   18  31.920\n",
       "1335   18  36.850\n",
       "1336   21  25.800\n",
       "1337   61  29.070\n",
       "\n",
       "[1316 rows x 2 columns]"
      ]
     },
     "execution_count": 27,
     "metadata": {},
     "output_type": "execute_result"
    }
   ],
   "source": [
    "# Method 3: Using PowerTransformer\n",
    "x3_n=features.drop([\"sex\",\"children\",\"smoker\",\"region\"],axis=1)\n",
    "x3_n"
   ]
  },
  {
   "cell_type": "code",
   "execution_count": 28,
   "id": "1f6c88f4",
   "metadata": {},
   "outputs": [
    {
     "data": {
      "text/plain": [
       "bmi   -0.012546\n",
       "age   -0.101915\n",
       "dtype: float64"
      ]
     },
     "execution_count": 28,
     "metadata": {},
     "output_type": "execute_result"
    }
   ],
   "source": [
    "# Method 3: Using PowerTransformer\n",
    "\n",
    "from sklearn.preprocessing import PowerTransformer\n",
    "pt=PowerTransformer()\n",
    "x_new_pt=pt.fit_transform(x3_n)\n",
    "x_3=pd.DataFrame(data=x_new_pt,columns=x3_n.columns)\n",
    "x_3.skew().sort_values(ascending=False)"
   ]
  },
  {
   "cell_type": "markdown",
   "id": "7f8badf0",
   "metadata": {},
   "source": [
    "Observations: Skewness range: (+0.1,-0.1)"
   ]
  },
  {
   "cell_type": "code",
   "execution_count": 29,
   "id": "74707c78",
   "metadata": {},
   "outputs": [
    {
     "data": {
      "text/html": [
       "<div>\n",
       "<style scoped>\n",
       "    .dataframe tbody tr th:only-of-type {\n",
       "        vertical-align: middle;\n",
       "    }\n",
       "\n",
       "    .dataframe tbody tr th {\n",
       "        vertical-align: top;\n",
       "    }\n",
       "\n",
       "    .dataframe thead th {\n",
       "        text-align: right;\n",
       "    }\n",
       "</style>\n",
       "<table border=\"1\" class=\"dataframe\">\n",
       "  <thead>\n",
       "    <tr style=\"text-align: right;\">\n",
       "      <th></th>\n",
       "      <th>age</th>\n",
       "      <th>bmi</th>\n",
       "    </tr>\n",
       "  </thead>\n",
       "  <tbody>\n",
       "    <tr>\n",
       "      <th>0</th>\n",
       "      <td>-1.525474</td>\n",
       "      <td>-0.419803</td>\n",
       "    </tr>\n",
       "    <tr>\n",
       "      <th>1</th>\n",
       "      <td>-1.616848</td>\n",
       "      <td>0.555771</td>\n",
       "    </tr>\n",
       "    <tr>\n",
       "      <th>2</th>\n",
       "      <td>-0.767728</td>\n",
       "      <td>0.432095</td>\n",
       "    </tr>\n",
       "    <tr>\n",
       "      <th>3</th>\n",
       "      <td>-0.385137</td>\n",
       "      <td>-1.357505</td>\n",
       "    </tr>\n",
       "    <tr>\n",
       "      <th>4</th>\n",
       "      <td>-0.459889</td>\n",
       "      <td>-0.251355</td>\n",
       "    </tr>\n",
       "    <tr>\n",
       "      <th>...</th>\n",
       "      <td>...</td>\n",
       "      <td>...</td>\n",
       "    </tr>\n",
       "    <tr>\n",
       "      <th>1311</th>\n",
       "      <td>0.782259</td>\n",
       "      <td>0.100105</td>\n",
       "    </tr>\n",
       "    <tr>\n",
       "      <th>1312</th>\n",
       "      <td>-1.616848</td>\n",
       "      <td>0.256569</td>\n",
       "    </tr>\n",
       "    <tr>\n",
       "      <th>1313</th>\n",
       "      <td>-1.616848</td>\n",
       "      <td>1.039060</td>\n",
       "    </tr>\n",
       "    <tr>\n",
       "      <th>1314</th>\n",
       "      <td>-1.347657</td>\n",
       "      <td>-0.789294</td>\n",
       "    </tr>\n",
       "    <tr>\n",
       "      <th>1315</th>\n",
       "      <td>1.460121</td>\n",
       "      <td>-0.218975</td>\n",
       "    </tr>\n",
       "  </tbody>\n",
       "</table>\n",
       "<p>1316 rows × 2 columns</p>\n",
       "</div>"
      ],
      "text/plain": [
       "           age       bmi\n",
       "0    -1.525474 -0.419803\n",
       "1    -1.616848  0.555771\n",
       "2    -0.767728  0.432095\n",
       "3    -0.385137 -1.357505\n",
       "4    -0.459889 -0.251355\n",
       "...        ...       ...\n",
       "1311  0.782259  0.100105\n",
       "1312 -1.616848  0.256569\n",
       "1313 -1.616848  1.039060\n",
       "1314 -1.347657 -0.789294\n",
       "1315  1.460121 -0.218975\n",
       "\n",
       "[1316 rows x 2 columns]"
      ]
     },
     "execution_count": 29,
     "metadata": {},
     "output_type": "execute_result"
    }
   ],
   "source": [
    "x_3"
   ]
  },
  {
   "cell_type": "code",
   "execution_count": 30,
   "id": "70569f06",
   "metadata": {},
   "outputs": [
    {
     "data": {
      "text/html": [
       "<div>\n",
       "<style scoped>\n",
       "    .dataframe tbody tr th:only-of-type {\n",
       "        vertical-align: middle;\n",
       "    }\n",
       "\n",
       "    .dataframe tbody tr th {\n",
       "        vertical-align: top;\n",
       "    }\n",
       "\n",
       "    .dataframe thead th {\n",
       "        text-align: right;\n",
       "    }\n",
       "</style>\n",
       "<table border=\"1\" class=\"dataframe\">\n",
       "  <thead>\n",
       "    <tr style=\"text-align: right;\">\n",
       "      <th></th>\n",
       "      <th>age</th>\n",
       "      <th>sex</th>\n",
       "      <th>bmi</th>\n",
       "      <th>children</th>\n",
       "      <th>smoker</th>\n",
       "      <th>region</th>\n",
       "    </tr>\n",
       "  </thead>\n",
       "  <tbody>\n",
       "    <tr>\n",
       "      <th>0</th>\n",
       "      <td>19</td>\n",
       "      <td>0</td>\n",
       "      <td>27.900</td>\n",
       "      <td>0</td>\n",
       "      <td>1</td>\n",
       "      <td>3</td>\n",
       "    </tr>\n",
       "    <tr>\n",
       "      <th>1</th>\n",
       "      <td>18</td>\n",
       "      <td>1</td>\n",
       "      <td>33.770</td>\n",
       "      <td>1</td>\n",
       "      <td>0</td>\n",
       "      <td>2</td>\n",
       "    </tr>\n",
       "    <tr>\n",
       "      <th>2</th>\n",
       "      <td>28</td>\n",
       "      <td>1</td>\n",
       "      <td>33.000</td>\n",
       "      <td>3</td>\n",
       "      <td>0</td>\n",
       "      <td>2</td>\n",
       "    </tr>\n",
       "    <tr>\n",
       "      <th>3</th>\n",
       "      <td>33</td>\n",
       "      <td>1</td>\n",
       "      <td>22.705</td>\n",
       "      <td>0</td>\n",
       "      <td>0</td>\n",
       "      <td>1</td>\n",
       "    </tr>\n",
       "    <tr>\n",
       "      <th>4</th>\n",
       "      <td>32</td>\n",
       "      <td>1</td>\n",
       "      <td>28.880</td>\n",
       "      <td>0</td>\n",
       "      <td>0</td>\n",
       "      <td>1</td>\n",
       "    </tr>\n",
       "    <tr>\n",
       "      <th>...</th>\n",
       "      <td>...</td>\n",
       "      <td>...</td>\n",
       "      <td>...</td>\n",
       "      <td>...</td>\n",
       "      <td>...</td>\n",
       "      <td>...</td>\n",
       "    </tr>\n",
       "    <tr>\n",
       "      <th>1333</th>\n",
       "      <td>50</td>\n",
       "      <td>1</td>\n",
       "      <td>30.970</td>\n",
       "      <td>3</td>\n",
       "      <td>0</td>\n",
       "      <td>1</td>\n",
       "    </tr>\n",
       "    <tr>\n",
       "      <th>1334</th>\n",
       "      <td>18</td>\n",
       "      <td>0</td>\n",
       "      <td>31.920</td>\n",
       "      <td>0</td>\n",
       "      <td>0</td>\n",
       "      <td>0</td>\n",
       "    </tr>\n",
       "    <tr>\n",
       "      <th>1335</th>\n",
       "      <td>18</td>\n",
       "      <td>0</td>\n",
       "      <td>36.850</td>\n",
       "      <td>0</td>\n",
       "      <td>0</td>\n",
       "      <td>2</td>\n",
       "    </tr>\n",
       "    <tr>\n",
       "      <th>1336</th>\n",
       "      <td>21</td>\n",
       "      <td>0</td>\n",
       "      <td>25.800</td>\n",
       "      <td>0</td>\n",
       "      <td>0</td>\n",
       "      <td>3</td>\n",
       "    </tr>\n",
       "    <tr>\n",
       "      <th>1337</th>\n",
       "      <td>61</td>\n",
       "      <td>0</td>\n",
       "      <td>29.070</td>\n",
       "      <td>0</td>\n",
       "      <td>1</td>\n",
       "      <td>1</td>\n",
       "    </tr>\n",
       "  </tbody>\n",
       "</table>\n",
       "<p>1316 rows × 6 columns</p>\n",
       "</div>"
      ],
      "text/plain": [
       "      age  sex     bmi  children  smoker  region\n",
       "0      19    0  27.900         0       1       3\n",
       "1      18    1  33.770         1       0       2\n",
       "2      28    1  33.000         3       0       2\n",
       "3      33    1  22.705         0       0       1\n",
       "4      32    1  28.880         0       0       1\n",
       "...   ...  ...     ...       ...     ...     ...\n",
       "1333   50    1  30.970         3       0       1\n",
       "1334   18    0  31.920         0       0       0\n",
       "1335   18    0  36.850         0       0       2\n",
       "1336   21    0  25.800         0       0       3\n",
       "1337   61    0  29.070         0       1       1\n",
       "\n",
       "[1316 rows x 6 columns]"
      ]
     },
     "execution_count": 30,
     "metadata": {},
     "output_type": "execute_result"
    }
   ],
   "source": [
    "features"
   ]
  },
  {
   "cell_type": "code",
   "execution_count": 31,
   "id": "972ba68f",
   "metadata": {},
   "outputs": [
    {
     "name": "stdout",
     "output_type": "stream",
     "text": [
      "[   0    1    2 ... 1335 1336 1337]\n",
      "\n",
      "[   0    1    2 ... 1335 1336 1337]\n"
     ]
    },
    {
     "data": {
      "text/html": [
       "<div>\n",
       "<style scoped>\n",
       "    .dataframe tbody tr th:only-of-type {\n",
       "        vertical-align: middle;\n",
       "    }\n",
       "\n",
       "    .dataframe tbody tr th {\n",
       "        vertical-align: top;\n",
       "    }\n",
       "\n",
       "    .dataframe thead th {\n",
       "        text-align: right;\n",
       "    }\n",
       "</style>\n",
       "<table border=\"1\" class=\"dataframe\">\n",
       "  <thead>\n",
       "    <tr style=\"text-align: right;\">\n",
       "      <th></th>\n",
       "      <th>sex</th>\n",
       "      <th>children</th>\n",
       "      <th>smoker</th>\n",
       "      <th>region</th>\n",
       "      <th>age</th>\n",
       "      <th>bmi</th>\n",
       "    </tr>\n",
       "    <tr>\n",
       "      <th>index</th>\n",
       "      <th></th>\n",
       "      <th></th>\n",
       "      <th></th>\n",
       "      <th></th>\n",
       "      <th></th>\n",
       "      <th></th>\n",
       "    </tr>\n",
       "  </thead>\n",
       "  <tbody>\n",
       "    <tr>\n",
       "      <th>0</th>\n",
       "      <td>0</td>\n",
       "      <td>0</td>\n",
       "      <td>1</td>\n",
       "      <td>3</td>\n",
       "      <td>-1.525474</td>\n",
       "      <td>-0.419803</td>\n",
       "    </tr>\n",
       "    <tr>\n",
       "      <th>1</th>\n",
       "      <td>1</td>\n",
       "      <td>1</td>\n",
       "      <td>0</td>\n",
       "      <td>2</td>\n",
       "      <td>-1.616848</td>\n",
       "      <td>0.555771</td>\n",
       "    </tr>\n",
       "    <tr>\n",
       "      <th>2</th>\n",
       "      <td>1</td>\n",
       "      <td>3</td>\n",
       "      <td>0</td>\n",
       "      <td>2</td>\n",
       "      <td>-0.767728</td>\n",
       "      <td>0.432095</td>\n",
       "    </tr>\n",
       "    <tr>\n",
       "      <th>3</th>\n",
       "      <td>1</td>\n",
       "      <td>0</td>\n",
       "      <td>0</td>\n",
       "      <td>1</td>\n",
       "      <td>-0.385137</td>\n",
       "      <td>-1.357505</td>\n",
       "    </tr>\n",
       "    <tr>\n",
       "      <th>4</th>\n",
       "      <td>1</td>\n",
       "      <td>0</td>\n",
       "      <td>0</td>\n",
       "      <td>1</td>\n",
       "      <td>-0.459889</td>\n",
       "      <td>-0.251355</td>\n",
       "    </tr>\n",
       "    <tr>\n",
       "      <th>...</th>\n",
       "      <td>...</td>\n",
       "      <td>...</td>\n",
       "      <td>...</td>\n",
       "      <td>...</td>\n",
       "      <td>...</td>\n",
       "      <td>...</td>\n",
       "    </tr>\n",
       "    <tr>\n",
       "      <th>1311</th>\n",
       "      <td>1</td>\n",
       "      <td>3</td>\n",
       "      <td>0</td>\n",
       "      <td>1</td>\n",
       "      <td>0.782259</td>\n",
       "      <td>0.100105</td>\n",
       "    </tr>\n",
       "    <tr>\n",
       "      <th>1312</th>\n",
       "      <td>0</td>\n",
       "      <td>0</td>\n",
       "      <td>0</td>\n",
       "      <td>0</td>\n",
       "      <td>-1.616848</td>\n",
       "      <td>0.256569</td>\n",
       "    </tr>\n",
       "    <tr>\n",
       "      <th>1313</th>\n",
       "      <td>0</td>\n",
       "      <td>0</td>\n",
       "      <td>0</td>\n",
       "      <td>2</td>\n",
       "      <td>-1.616848</td>\n",
       "      <td>1.039060</td>\n",
       "    </tr>\n",
       "    <tr>\n",
       "      <th>1314</th>\n",
       "      <td>0</td>\n",
       "      <td>0</td>\n",
       "      <td>0</td>\n",
       "      <td>3</td>\n",
       "      <td>-1.347657</td>\n",
       "      <td>-0.789294</td>\n",
       "    </tr>\n",
       "    <tr>\n",
       "      <th>1315</th>\n",
       "      <td>0</td>\n",
       "      <td>0</td>\n",
       "      <td>1</td>\n",
       "      <td>1</td>\n",
       "      <td>1.460121</td>\n",
       "      <td>-0.218975</td>\n",
       "    </tr>\n",
       "  </tbody>\n",
       "</table>\n",
       "<p>1316 rows × 6 columns</p>\n",
       "</div>"
      ],
      "text/plain": [
       "       sex  children  smoker  region       age       bmi\n",
       "index                                                   \n",
       "0        0         0       1       3 -1.525474 -0.419803\n",
       "1        1         1       0       2 -1.616848  0.555771\n",
       "2        1         3       0       2 -0.767728  0.432095\n",
       "3        1         0       0       1 -0.385137 -1.357505\n",
       "4        1         0       0       1 -0.459889 -0.251355\n",
       "...    ...       ...     ...     ...       ...       ...\n",
       "1311     1         3       0       1  0.782259  0.100105\n",
       "1312     0         0       0       0 -1.616848  0.256569\n",
       "1313     0         0       0       2 -1.616848  1.039060\n",
       "1314     0         0       0       3 -1.347657 -0.789294\n",
       "1315     0         0       1       1  1.460121 -0.218975\n",
       "\n",
       "[1316 rows x 6 columns]"
      ]
     },
     "execution_count": 31,
     "metadata": {},
     "output_type": "execute_result"
    }
   ],
   "source": [
    "features.drop([\"age\",\"bmi\"],axis=1,inplace=True)\n",
    "new_features=features\n",
    "new_features\n",
    "print(features.index.values)\n",
    "print()\n",
    "print(new_features.index.values)\n",
    "\n",
    "new_features[\"index\"]=x_3.index.values\n",
    "\n",
    "new_features.set_index(\"index\",inplace=True)\n",
    "new_features\n",
    "\n",
    "upd_features = new_features.join(x_3)\n",
    "upd_features\n"
   ]
  },
  {
   "cell_type": "markdown",
   "id": "18de4014",
   "metadata": {},
   "source": [
    "# Scaling data"
   ]
  },
  {
   "cell_type": "code",
   "execution_count": 32,
   "id": "1fcea140",
   "metadata": {},
   "outputs": [
    {
     "data": {
      "text/plain": [
       "((1316, 6), (1316,))"
      ]
     },
     "execution_count": 32,
     "metadata": {},
     "output_type": "execute_result"
    }
   ],
   "source": [
    "from sklearn.preprocessing import StandardScaler\n",
    "scaler = StandardScaler()\n",
    "features=scaler.fit_transform(upd_features)\n",
    "features\n",
    "\n",
    "features.shape,target.shape"
   ]
  },
  {
   "cell_type": "markdown",
   "id": "33333346",
   "metadata": {},
   "source": [
    "# Build Model "
   ]
  },
  {
   "cell_type": "code",
   "execution_count": 33,
   "id": "b0273781",
   "metadata": {},
   "outputs": [
    {
     "name": "stdout",
     "output_type": "stream",
     "text": [
      "At randome state 63  the model performs well\n",
      "At randome state: 63\n",
      "Training accuracy is 74.87553480657736\n",
      "Testing accuracy is 74.87860073866142\n",
      "Difference between Training and Testing accuracy is 0.0030659320840555893\n",
      "\n",
      "\n",
      "At randome state 414  the model performs well\n",
      "At randome state: 414\n",
      "Training accuracy is 74.9004524097314\n",
      "Testing accuracy is 74.8998253318325\n",
      "Difference between Training and Testing accuracy is -0.0006270778988977099\n",
      "\n",
      "\n",
      "At randome state 491  the model performs well\n",
      "At randome state: 491\n",
      "Training accuracy is 74.88043097014585\n",
      "Testing accuracy is 74.87668937170277\n",
      "Difference between Training and Testing accuracy is -0.0037415984430850813\n",
      "\n",
      "\n"
     ]
    }
   ],
   "source": [
    "from sklearn.linear_model import LinearRegression\n",
    "from sklearn.model_selection import train_test_split\n",
    "from sklearn.metrics import r2_score\n",
    "\n",
    "lr=LinearRegression()\n",
    "\n",
    "for i in range(0,1000):\n",
    "    x_train,x_test,y_train,y_test=train_test_split(features,target,test_size=0.2,random_state=i)\n",
    "    lr.fit(x_train,y_train)\n",
    "    pred_test=lr.predict(x_test)\n",
    "    pred_train=lr.predict(x_train)\n",
    "    if round(r2_score(y_train,pred_train)*100,2)==round(r2_score(y_test,pred_test)*100,2):\n",
    "        print(\"At randome state\",i, \" the model performs well\")\n",
    "        print(\"At randome state:\",i)\n",
    "        print(\"Training accuracy is\",r2_score(y_train,pred_train)*100)\n",
    "        print(\"Testing accuracy is\",r2_score(y_test,pred_test)*100)\n",
    "        print(\"Difference between Training and Testing accuracy is\",(r2_score(y_test,pred_test)*100)-(r2_score(y_train,pred_train)*100))\n",
    "        print(\"\\n\")"
   ]
  },
  {
   "cell_type": "markdown",
   "id": "d363bb54",
   "metadata": {},
   "source": [
    "Observations: \n",
    "\n",
    "As multple random states give same training and testing accuarcy scores\n",
    "selected random state: 414"
   ]
  },
  {
   "cell_type": "code",
   "execution_count": 34,
   "id": "dfcc625f",
   "metadata": {},
   "outputs": [
    {
     "name": "stdout",
     "output_type": "stream",
     "text": [
      "r2_Score from LinearRegression--> 0.748998253318325\n"
     ]
    }
   ],
   "source": [
    "x_train,x_test,y_train,y_test=train_test_split(features,target,test_size=0.2,random_state=414)\n",
    "lr.fit(x_train,y_train)\n",
    "pred_test=lr.predict(x_test)\n",
    "print(\"r2_Score from LinearRegression-->\",r2_score(y_test,pred_test))"
   ]
  },
  {
   "cell_type": "markdown",
   "id": "1b7da7c6",
   "metadata": {},
   "source": [
    "# Cross Validation(CV) for Linear Regression"
   ]
  },
  {
   "cell_type": "code",
   "execution_count": 35,
   "id": "2f833871",
   "metadata": {},
   "outputs": [
    {
     "name": "stdout",
     "output_type": "stream",
     "text": [
      " At CV: 2\n",
      "Cross validation score is: 74.69230209323102\n",
      "Model_score is: 74.8998253318325\n",
      "Difference b/w Cross validation score and Model accuracy score is -0.0020752323860148136\n",
      "\n",
      "\n",
      " At CV: 3\n",
      "Cross validation score is: 74.33809722319319\n",
      "Model_score is: 74.8998253318325\n",
      "Difference b/w Cross validation score and Model accuracy score is -0.005617281086393144\n",
      "\n",
      "\n",
      " At CV: 4\n",
      "Cross validation score is: 74.43621473149503\n",
      "Model_score is: 74.8998253318325\n",
      "Difference b/w Cross validation score and Model accuracy score is -0.004636106003374829\n",
      "\n",
      "\n",
      " At CV: 5\n",
      "Cross validation score is: 74.5424892191151\n",
      "Model_score is: 74.8998253318325\n",
      "Difference b/w Cross validation score and Model accuracy score is -0.0035733611271741017\n",
      "\n",
      "\n",
      " At CV: 6\n",
      "Cross validation score is: 74.41110706208859\n",
      "Model_score is: 74.8998253318325\n",
      "Difference b/w Cross validation score and Model accuracy score is -0.004887182697439152\n",
      "\n",
      "\n",
      " At CV: 7\n",
      "Cross validation score is: 74.44480746259516\n",
      "Model_score is: 74.8998253318325\n",
      "Difference b/w Cross validation score and Model accuracy score is -0.004550178692373397\n",
      "\n",
      "\n",
      " At CV: 8\n",
      "Cross validation score is: 74.19060860259327\n",
      "Model_score is: 74.8998253318325\n",
      "Difference b/w Cross validation score and Model accuracy score is -0.00709216729239226\n",
      "\n",
      "\n",
      " At CV: 9\n",
      "Cross validation score is: 74.34201179304638\n",
      "Model_score is: 74.8998253318325\n",
      "Difference b/w Cross validation score and Model accuracy score is -0.005578135387861227\n",
      "\n",
      "\n",
      " At CV: 10\n",
      "Cross validation score is: 74.18985660137302\n",
      "Model_score is: 74.8998253318325\n",
      "Difference b/w Cross validation score and Model accuracy score is -0.0070996873045947595\n",
      "\n",
      "\n"
     ]
    }
   ],
   "source": [
    "pred_lr=lr.predict(x_test)\n",
    "from sklearn.model_selection  import cross_val_score\n",
    "lss=r2_score(y_test,pred_lr)\n",
    "for j in range(2,11):\n",
    "    lsscore=cross_val_score(lr,features,target,cv=j)\n",
    "    lsc=lsscore.mean()\n",
    "    print(\" At CV:\",j)\n",
    "    print(\"Cross validation score is:\",lsc*100)\n",
    "    print(\"Model_score is:\",lss*100)\n",
    "    print(\"Difference b/w Cross validation score and Model accuracy score is\",lsc-lss)\n",
    "    print(\"\\n\") "
   ]
  },
  {
   "cell_type": "markdown",
   "id": "fd5b977b",
   "metadata": {},
   "source": [
    "Observations: \n",
    "    \n",
    "At CV=5, Difference b/w Cross validation score and Model r2 score is less hence selected CV=5"
   ]
  },
  {
   "cell_type": "code",
   "execution_count": 36,
   "id": "2ac5b1dd",
   "metadata": {},
   "outputs": [
    {
     "name": "stdout",
     "output_type": "stream",
     "text": [
      "The CV score is: 74.5424892191151 \n",
      "The model score is: 74.8998253318325\n",
      "Difference of CV score & model score is: 0.0035733611271741017\n"
     ]
    }
   ],
   "source": [
    "lsscore_selected=cross_val_score(lr,features,target,cv=5).mean()\n",
    "print(\"The CV score is:\",lsscore_selected*100,\"\\nThe model score is:\",lss*100)\n",
    "print(\"Difference of CV score & model score is:\",lss-lsscore_selected)"
   ]
  },
  {
   "cell_type": "markdown",
   "id": "b0741921",
   "metadata": {},
   "source": [
    "# Few more Classification Algorithms"
   ]
  },
  {
   "cell_type": "code",
   "execution_count": 37,
   "id": "c46355ab",
   "metadata": {},
   "outputs": [
    {
     "name": "stdout",
     "output_type": "stream",
     "text": [
      "LinearRegression() :  \n",
      "XGBRegressor(base_score=0.5, booster='gbtree', callbacks=None,\n",
      "             colsample_bylevel=1, colsample_bynode=1, colsample_bytree=1,\n",
      "             early_stopping_rounds=None, enable_categorical=False,\n",
      "             eval_metric=None, feature_types=None, gamma=0, gpu_id=-1,\n",
      "             grow_policy='depthwise', importance_type=None,\n",
      "             interaction_constraints='', learning_rate=0.300000012, max_bin=256,\n",
      "             max_cat_threshold=64, max_cat_to_onehot=4, max_delta_step=0,\n",
      "             max_depth=6, max_leaves=0, min_child_weight=1, missing=nan,\n",
      "             monotone_constraints='()', n_estimators=100, n_jobs=0,\n",
      "             num_parallel_tree=1, predictor='auto', random_state=0, ...) :  \n",
      "RandomForestRegressor() :  \n",
      "AdaBoostRegressor() :  \n",
      "Lasso() :  \n",
      "Ridge() :  \n",
      "DecisionTreeRegressor() :  \n",
      "KNeighborsRegressor() :  \n",
      "SGDRegressor() :  \n",
      "SVR() :  \n",
      "ElasticNet() :  \n",
      "GradientBoostingRegressor() :  \n"
     ]
    },
    {
     "data": {
      "text/html": [
       "<div>\n",
       "<style scoped>\n",
       "    .dataframe tbody tr th:only-of-type {\n",
       "        vertical-align: middle;\n",
       "    }\n",
       "\n",
       "    .dataframe tbody tr th {\n",
       "        vertical-align: top;\n",
       "    }\n",
       "\n",
       "    .dataframe thead th {\n",
       "        text-align: right;\n",
       "    }\n",
       "</style>\n",
       "<table border=\"1\" class=\"dataframe\">\n",
       "  <thead>\n",
       "    <tr style=\"text-align: right;\">\n",
       "      <th></th>\n",
       "      <th>ModelAlgo</th>\n",
       "      <th>Training_r2score</th>\n",
       "      <th>Testing_r2score</th>\n",
       "      <th>Diff_Train_Test_r2score</th>\n",
       "      <th>mape_train</th>\n",
       "      <th>mape_test</th>\n",
       "      <th>Diff_mape_TrainTest</th>\n",
       "      <th>model_score</th>\n",
       "    </tr>\n",
       "  </thead>\n",
       "  <tbody>\n",
       "    <tr>\n",
       "      <th>0</th>\n",
       "      <td>LinearRegression()</td>\n",
       "      <td>74.900452</td>\n",
       "      <td>74.899825</td>\n",
       "      <td>-0.000627</td>\n",
       "      <td>0.424126</td>\n",
       "      <td>0.418241</td>\n",
       "      <td>0.588447</td>\n",
       "      <td>0.748998</td>\n",
       "    </tr>\n",
       "    <tr>\n",
       "      <th>1</th>\n",
       "      <td>XGBRegressor(base_score=0.5, booster='gbtree',...</td>\n",
       "      <td>99.494754</td>\n",
       "      <td>80.826503</td>\n",
       "      <td>-18.668252</td>\n",
       "      <td>0.064932</td>\n",
       "      <td>0.404595</td>\n",
       "      <td>-33.966259</td>\n",
       "      <td>0.808265</td>\n",
       "    </tr>\n",
       "    <tr>\n",
       "      <th>2</th>\n",
       "      <td>(DecisionTreeRegressor(max_features=1.0, rando...</td>\n",
       "      <td>97.557325</td>\n",
       "      <td>84.269671</td>\n",
       "      <td>-13.287654</td>\n",
       "      <td>0.119936</td>\n",
       "      <td>0.351308</td>\n",
       "      <td>-23.137191</td>\n",
       "      <td>0.842697</td>\n",
       "    </tr>\n",
       "    <tr>\n",
       "      <th>3</th>\n",
       "      <td>(DecisionTreeRegressor(max_depth=3, random_sta...</td>\n",
       "      <td>83.591508</td>\n",
       "      <td>81.397546</td>\n",
       "      <td>-2.193963</td>\n",
       "      <td>0.643286</td>\n",
       "      <td>0.637484</td>\n",
       "      <td>0.580131</td>\n",
       "      <td>0.813975</td>\n",
       "    </tr>\n",
       "    <tr>\n",
       "      <th>4</th>\n",
       "      <td>Lasso()</td>\n",
       "      <td>74.900448</td>\n",
       "      <td>74.900983</td>\n",
       "      <td>0.000535</td>\n",
       "      <td>0.424079</td>\n",
       "      <td>0.418227</td>\n",
       "      <td>0.585179</td>\n",
       "      <td>0.749010</td>\n",
       "    </tr>\n",
       "    <tr>\n",
       "      <th>5</th>\n",
       "      <td>Ridge()</td>\n",
       "      <td>74.900385</td>\n",
       "      <td>74.902169</td>\n",
       "      <td>0.001784</td>\n",
       "      <td>0.424301</td>\n",
       "      <td>0.418554</td>\n",
       "      <td>0.574704</td>\n",
       "      <td>0.749022</td>\n",
       "    </tr>\n",
       "    <tr>\n",
       "      <th>6</th>\n",
       "      <td>DecisionTreeRegressor()</td>\n",
       "      <td>99.833059</td>\n",
       "      <td>65.841575</td>\n",
       "      <td>-33.991484</td>\n",
       "      <td>0.008617</td>\n",
       "      <td>0.482019</td>\n",
       "      <td>-47.340285</td>\n",
       "      <td>0.658416</td>\n",
       "    </tr>\n",
       "    <tr>\n",
       "      <th>7</th>\n",
       "      <td>KNeighborsRegressor()</td>\n",
       "      <td>87.481640</td>\n",
       "      <td>80.239238</td>\n",
       "      <td>-7.242402</td>\n",
       "      <td>0.276938</td>\n",
       "      <td>0.345738</td>\n",
       "      <td>-6.879946</td>\n",
       "      <td>0.802392</td>\n",
       "    </tr>\n",
       "    <tr>\n",
       "      <th>8</th>\n",
       "      <td>SGDRegressor()</td>\n",
       "      <td>74.899845</td>\n",
       "      <td>74.911186</td>\n",
       "      <td>0.011341</td>\n",
       "      <td>0.422959</td>\n",
       "      <td>0.417321</td>\n",
       "      <td>0.563785</td>\n",
       "      <td>0.749112</td>\n",
       "    </tr>\n",
       "    <tr>\n",
       "      <th>9</th>\n",
       "      <td>SVR()</td>\n",
       "      <td>-9.650174</td>\n",
       "      <td>-11.329525</td>\n",
       "      <td>-1.679351</td>\n",
       "      <td>1.038754</td>\n",
       "      <td>0.937390</td>\n",
       "      <td>10.136339</td>\n",
       "      <td>-0.113295</td>\n",
       "    </tr>\n",
       "    <tr>\n",
       "      <th>10</th>\n",
       "      <td>ElasticNet()</td>\n",
       "      <td>66.632564</td>\n",
       "      <td>67.219072</td>\n",
       "      <td>0.586508</td>\n",
       "      <td>0.682676</td>\n",
       "      <td>0.660081</td>\n",
       "      <td>2.259556</td>\n",
       "      <td>0.672191</td>\n",
       "    </tr>\n",
       "    <tr>\n",
       "      <th>11</th>\n",
       "      <td>([DecisionTreeRegressor(criterion='friedman_ms...</td>\n",
       "      <td>90.566605</td>\n",
       "      <td>85.654485</td>\n",
       "      <td>-4.912120</td>\n",
       "      <td>0.232420</td>\n",
       "      <td>0.266312</td>\n",
       "      <td>-3.389225</td>\n",
       "      <td>0.856545</td>\n",
       "    </tr>\n",
       "  </tbody>\n",
       "</table>\n",
       "</div>"
      ],
      "text/plain": [
       "                                            ModelAlgo  Training_r2score  \\\n",
       "0                                  LinearRegression()         74.900452   \n",
       "1   XGBRegressor(base_score=0.5, booster='gbtree',...         99.494754   \n",
       "2   (DecisionTreeRegressor(max_features=1.0, rando...         97.557325   \n",
       "3   (DecisionTreeRegressor(max_depth=3, random_sta...         83.591508   \n",
       "4                                             Lasso()         74.900448   \n",
       "5                                             Ridge()         74.900385   \n",
       "6                             DecisionTreeRegressor()         99.833059   \n",
       "7                               KNeighborsRegressor()         87.481640   \n",
       "8                                      SGDRegressor()         74.899845   \n",
       "9                                               SVR()         -9.650174   \n",
       "10                                       ElasticNet()         66.632564   \n",
       "11  ([DecisionTreeRegressor(criterion='friedman_ms...         90.566605   \n",
       "\n",
       "    Testing_r2score  Diff_Train_Test_r2score  mape_train  mape_test  \\\n",
       "0         74.899825                -0.000627    0.424126   0.418241   \n",
       "1         80.826503               -18.668252    0.064932   0.404595   \n",
       "2         84.269671               -13.287654    0.119936   0.351308   \n",
       "3         81.397546                -2.193963    0.643286   0.637484   \n",
       "4         74.900983                 0.000535    0.424079   0.418227   \n",
       "5         74.902169                 0.001784    0.424301   0.418554   \n",
       "6         65.841575               -33.991484    0.008617   0.482019   \n",
       "7         80.239238                -7.242402    0.276938   0.345738   \n",
       "8         74.911186                 0.011341    0.422959   0.417321   \n",
       "9        -11.329525                -1.679351    1.038754   0.937390   \n",
       "10        67.219072                 0.586508    0.682676   0.660081   \n",
       "11        85.654485                -4.912120    0.232420   0.266312   \n",
       "\n",
       "    Diff_mape_TrainTest  model_score  \n",
       "0              0.588447     0.748998  \n",
       "1            -33.966259     0.808265  \n",
       "2            -23.137191     0.842697  \n",
       "3              0.580131     0.813975  \n",
       "4              0.585179     0.749010  \n",
       "5              0.574704     0.749022  \n",
       "6            -47.340285     0.658416  \n",
       "7             -6.879946     0.802392  \n",
       "8              0.563785     0.749112  \n",
       "9             10.136339    -0.113295  \n",
       "10             2.259556     0.672191  \n",
       "11            -3.389225     0.856545  "
      ]
     },
     "execution_count": 37,
     "metadata": {},
     "output_type": "execute_result"
    }
   ],
   "source": [
    "from sklearn.metrics import mean_squared_error\n",
    "from sklearn.metrics import r2_score\n",
    "\n",
    "from sklearn.tree import DecisionTreeRegressor\n",
    "from sklearn.neighbors import KNeighborsRegressor\n",
    "from sklearn.linear_model import SGDRegressor\n",
    "from sklearn.svm import SVR\n",
    "from sklearn.linear_model import ElasticNet\n",
    "from sklearn.ensemble import GradientBoostingRegressor\n",
    "\n",
    "\n",
    "models = [LinearRegression(),XGBRegressor(),RandomForestRegressor(),AdaBoostRegressor(),Lasso(),Ridge(),\n",
    "         DecisionTreeRegressor(),KNeighborsRegressor(),SGDRegressor(),\n",
    "         SVR(),ElasticNet(),GradientBoostingRegressor()]\n",
    "Training_r2score =[]\n",
    "Testing_r2score=[]\n",
    "Diff_Train_Test_r2score =[]\n",
    "mape_train =[]\n",
    "mape_test =[]\n",
    "Diff_mape_TrainTest =[]\n",
    "model_score=[]\n",
    "# MSE =[]\n",
    "# RMSE=[]\n",
    "\n",
    "for i in range(12):\n",
    "    models[i].fit(x_train,y_train)\n",
    "    \n",
    "    print(f'{models[i]} :  ')\n",
    "    pred_train = models[i].predict(x_train)\n",
    "    pred_test= models[i].predict(x_test)\n",
    "    #print(\"Training accuracy is\",r2_score(y_train,pred_train)*100)\n",
    "    Training_r2score.append(r2_score(y_train,pred_train)*100)\n",
    "    #print(\"Testing accuracy is\",r2_score(y_test,pred_test)*100)\n",
    "    Testing_r2score.append(r2_score(y_test,pred_test)*100)\n",
    "    #print(\"Difference between Training and Testing accuracy is\",(r2_score(y_test,pred_test)*100)-(r2_score(y_train,pred_train)*100))\n",
    "    Diff_Train_Test_r2score.append((r2_score(y_test,pred_test)*100)-(r2_score(y_train,pred_train)*100))\n",
    "    #print(\"\\n\")\n",
    "    # mean_absolute_percentage_error as mape\n",
    "    #print('Training Error :', mape(y_train,pred_train))\n",
    "    mape_train.append(mape(y_train,pred_train))\n",
    "    #pred_val = models[i].predict(x_val)\n",
    "    #print('Validation error :',mape(y_test,pred_test))\n",
    "    mape_test.append(mape(y_test,pred_test))\n",
    "    #print(\"Difference between Training and Validation error is\",(mape(y_train,pred_train)*100)-(mape(y_test,pred_test)*100))\n",
    "    Diff_mape_TrainTest.append((mape(y_train,pred_train)*100)-(mape(y_test,pred_test)*100))\n",
    "    #print(\"\\n\")\n",
    "    \n",
    "    # predicting score\n",
    "    modelscore = models[i].score(x_test,y_test)\n",
    "    #print('score of model is : ',modelscore)\n",
    "    model_score.append(modelscore)\n",
    "\n",
    "\n",
    "ModelsMetrics_list = {'ModelAlgo':models,'Training_r2score':Training_r2score,'Testing_r2score':Testing_r2score,'Diff_Train_Test_r2score':Diff_Train_Test_r2score,'mape_train':mape_train,'mape_test':mape_test,'Diff_mape_TrainTest':Diff_mape_TrainTest,'model_score':model_score}\n",
    "\n",
    "dfModels_metrics = pd.DataFrame(ModelsMetrics_list,columns =['ModelAlgo','Training_r2score','Testing_r2score','Diff_Train_Test_r2score','mape_train','mape_test', 'Diff_mape_TrainTest','model_score'])\n",
    "                                                                                                                                                                  \n",
    "dfModels_metrics"
   ]
  },
  {
   "cell_type": "code",
   "execution_count": 38,
   "id": "4b70e999",
   "metadata": {},
   "outputs": [
    {
     "name": "stdout",
     "output_type": "stream",
     "text": [
      "LinearRegression() :  \n",
      "XGBRegressor(base_score=0.5, booster='gbtree', callbacks=None,\n",
      "             colsample_bylevel=1, colsample_bynode=1, colsample_bytree=1,\n",
      "             early_stopping_rounds=None, enable_categorical=False,\n",
      "             eval_metric=None, feature_types=None, gamma=0, gpu_id=-1,\n",
      "             grow_policy='depthwise', importance_type=None,\n",
      "             interaction_constraints='', learning_rate=0.300000012, max_bin=256,\n",
      "             max_cat_threshold=64, max_cat_to_onehot=4, max_delta_step=0,\n",
      "             max_depth=6, max_leaves=0, min_child_weight=1, missing=nan,\n",
      "             monotone_constraints='()', n_estimators=100, n_jobs=0,\n",
      "             num_parallel_tree=1, predictor='auto', random_state=0, ...) :  \n",
      "RandomForestRegressor() :  \n",
      "AdaBoostRegressor() :  \n",
      "Lasso() :  \n",
      "Ridge() :  \n",
      "DecisionTreeRegressor() :  \n",
      "KNeighborsRegressor() :  \n",
      "SGDRegressor() :  \n",
      "SVR() :  \n",
      "ElasticNet() :  \n",
      "GradientBoostingRegressor() :  \n"
     ]
    },
    {
     "data": {
      "text/html": [
       "<div>\n",
       "<style scoped>\n",
       "    .dataframe tbody tr th:only-of-type {\n",
       "        vertical-align: middle;\n",
       "    }\n",
       "\n",
       "    .dataframe tbody tr th {\n",
       "        vertical-align: top;\n",
       "    }\n",
       "\n",
       "    .dataframe thead th {\n",
       "        text-align: right;\n",
       "    }\n",
       "</style>\n",
       "<table border=\"1\" class=\"dataframe\">\n",
       "  <thead>\n",
       "    <tr style=\"text-align: right;\">\n",
       "      <th></th>\n",
       "      <th>ModelAlgo</th>\n",
       "      <th>cvscore</th>\n",
       "      <th>modelscore</th>\n",
       "      <th>Diff_cv_model_score</th>\n",
       "    </tr>\n",
       "  </thead>\n",
       "  <tbody>\n",
       "    <tr>\n",
       "      <th>0</th>\n",
       "      <td>LinearRegression()</td>\n",
       "      <td>74.542489</td>\n",
       "      <td>74.899825</td>\n",
       "      <td>0.003573</td>\n",
       "    </tr>\n",
       "    <tr>\n",
       "      <th>1</th>\n",
       "      <td>XGBRegressor(base_score=0.5, booster='gbtree',...</td>\n",
       "      <td>80.285618</td>\n",
       "      <td>80.826503</td>\n",
       "      <td>0.005409</td>\n",
       "    </tr>\n",
       "    <tr>\n",
       "      <th>2</th>\n",
       "      <td>(DecisionTreeRegressor(max_features=1.0, rando...</td>\n",
       "      <td>83.322700</td>\n",
       "      <td>84.269671</td>\n",
       "      <td>0.009470</td>\n",
       "    </tr>\n",
       "    <tr>\n",
       "      <th>3</th>\n",
       "      <td>(DecisionTreeRegressor(max_depth=3, random_sta...</td>\n",
       "      <td>82.144516</td>\n",
       "      <td>81.397546</td>\n",
       "      <td>-0.007470</td>\n",
       "    </tr>\n",
       "    <tr>\n",
       "      <th>4</th>\n",
       "      <td>Lasso()</td>\n",
       "      <td>74.542933</td>\n",
       "      <td>74.900983</td>\n",
       "      <td>0.003581</td>\n",
       "    </tr>\n",
       "    <tr>\n",
       "      <th>5</th>\n",
       "      <td>Ridge()</td>\n",
       "      <td>74.543034</td>\n",
       "      <td>74.902169</td>\n",
       "      <td>0.003591</td>\n",
       "    </tr>\n",
       "    <tr>\n",
       "      <th>6</th>\n",
       "      <td>DecisionTreeRegressor()</td>\n",
       "      <td>68.574891</td>\n",
       "      <td>65.841575</td>\n",
       "      <td>-0.027333</td>\n",
       "    </tr>\n",
       "    <tr>\n",
       "      <th>7</th>\n",
       "      <td>KNeighborsRegressor()</td>\n",
       "      <td>80.182800</td>\n",
       "      <td>80.239238</td>\n",
       "      <td>0.000564</td>\n",
       "    </tr>\n",
       "    <tr>\n",
       "      <th>8</th>\n",
       "      <td>SGDRegressor()</td>\n",
       "      <td>74.549041</td>\n",
       "      <td>74.911186</td>\n",
       "      <td>0.003621</td>\n",
       "    </tr>\n",
       "    <tr>\n",
       "      <th>9</th>\n",
       "      <td>SVR()</td>\n",
       "      <td>-9.958607</td>\n",
       "      <td>-11.329525</td>\n",
       "      <td>-0.013709</td>\n",
       "    </tr>\n",
       "    <tr>\n",
       "      <th>10</th>\n",
       "      <td>ElasticNet()</td>\n",
       "      <td>66.386142</td>\n",
       "      <td>67.219072</td>\n",
       "      <td>0.008329</td>\n",
       "    </tr>\n",
       "    <tr>\n",
       "      <th>11</th>\n",
       "      <td>([DecisionTreeRegressor(criterion='friedman_ms...</td>\n",
       "      <td>85.306679</td>\n",
       "      <td>85.654485</td>\n",
       "      <td>0.003478</td>\n",
       "    </tr>\n",
       "  </tbody>\n",
       "</table>\n",
       "</div>"
      ],
      "text/plain": [
       "                                            ModelAlgo    cvscore  modelscore  \\\n",
       "0                                  LinearRegression()  74.542489   74.899825   \n",
       "1   XGBRegressor(base_score=0.5, booster='gbtree',...  80.285618   80.826503   \n",
       "2   (DecisionTreeRegressor(max_features=1.0, rando...  83.322700   84.269671   \n",
       "3   (DecisionTreeRegressor(max_depth=3, random_sta...  82.144516   81.397546   \n",
       "4                                             Lasso()  74.542933   74.900983   \n",
       "5                                             Ridge()  74.543034   74.902169   \n",
       "6                             DecisionTreeRegressor()  68.574891   65.841575   \n",
       "7                               KNeighborsRegressor()  80.182800   80.239238   \n",
       "8                                      SGDRegressor()  74.549041   74.911186   \n",
       "9                                               SVR()  -9.958607  -11.329525   \n",
       "10                                       ElasticNet()  66.386142   67.219072   \n",
       "11  ([DecisionTreeRegressor(criterion='friedman_ms...  85.306679   85.654485   \n",
       "\n",
       "    Diff_cv_model_score  \n",
       "0              0.003573  \n",
       "1              0.005409  \n",
       "2              0.009470  \n",
       "3             -0.007470  \n",
       "4              0.003581  \n",
       "5              0.003591  \n",
       "6             -0.027333  \n",
       "7              0.000564  \n",
       "8              0.003621  \n",
       "9             -0.013709  \n",
       "10             0.008329  \n",
       "11             0.003478  "
      ]
     },
     "execution_count": 38,
     "metadata": {},
     "output_type": "execute_result"
    }
   ],
   "source": [
    "cvscore =[]\n",
    "modelscore=[]\n",
    "Diff_cv_model_score =[]\n",
    "for i in range(12):    \n",
    "    print(f'{models[i]} :  ')\n",
    "    pred_val = models[i].predict(x_test)\n",
    "    lss=r2_score(y_test,pred_val)\n",
    "    lsscore_selected=cross_val_score(models[i],features,target,cv=5).mean()\n",
    "    #print(\"The CV score is:\",lsscore_selected*100,\"\\nThe model score is:\",lss*100)\n",
    "    cvscore.append(lsscore_selected*100)\n",
    "    modelscore.append(lss*100)\n",
    "    #print(\"Difference is:\",lss-lsscore_selected)\n",
    "    Diff_cv_model_score.append(lss-lsscore_selected)\n",
    "    #print(\"\\n\")\n",
    "\n",
    "cvmodel_list = {'ModelAlgo':models,'cvscore':cvscore,'modelscore':modelscore,'Diff_cv_model_score':Diff_cv_model_score}\n",
    "\n",
    "dfcvmodel_score = pd.DataFrame(cvmodel_list,columns =['ModelAlgo','cvscore','modelscore','Diff_cv_model_score'])\n",
    "                                                                                                                                                                  \n",
    "dfcvmodel_score"
   ]
  },
  {
   "cell_type": "markdown",
   "id": "988ff1ab",
   "metadata": {},
   "source": [
    "Observations:\n",
    "\n",
    "Conclusion\n",
    "Out of all the models RandomForestRegressor  is giving the least value for the mean absolute percentage error this means\n",
    "predictions made by this model are close to the real values as compared to the other model.\n",
    "\n",
    "Here we have used MAPE which is the Mean Absolute Percentage Error metric to evaluate the model’s performance. \n",
    "A 0.1 value of MAPE means that the error in the predictions from the actual value will be around 10%.\n",
    "\n",
    "Out of all algorithms checked, \n",
    "RandomForestRegressor is selected for hyper parameter tuning as the \n",
    "difference between model and cross-validation score is less\n"
   ]
  },
  {
   "cell_type": "markdown",
   "id": "9e71ba7d",
   "metadata": {},
   "source": [
    "# Hyper Parameter Tuning"
   ]
  },
  {
   "cell_type": "code",
   "execution_count": 39,
   "id": "22a148b6",
   "metadata": {},
   "outputs": [
    {
     "name": "stdout",
     "output_type": "stream",
     "text": [
      "{'criterion': 'mse', 'max_features': 'sqrt'}\n",
      "mse\n",
      "sqrt\n"
     ]
    }
   ],
   "source": [
    "#Hyper Parameter Tuning\n",
    "from sklearn.model_selection import GridSearchCV\n",
    "from sklearn.ensemble import RandomForestRegressor\n",
    "\n",
    "parameters={'criterion':['mse','mae'],\n",
    "           'max_features':[\"auto\",\"sqrt\",\"log2\"]}\n",
    "rf=RandomForestRegressor()\n",
    "clf=GridSearchCV(rf,parameters)\n",
    "clf.fit(x_train,y_train)\n",
    "\n",
    "print(clf.best_params_)\n",
    "print(clf.best_params_['criterion'])\n",
    "print(clf.best_params_['max_features'])\n",
    "\n"
   ]
  },
  {
   "cell_type": "code",
   "execution_count": 40,
   "id": "679aeeea",
   "metadata": {},
   "outputs": [
    {
     "name": "stdout",
     "output_type": "stream",
     "text": [
      "R2 Score: 84.69448001714805\n",
      "Cross Val Score: 84.01613481443654\n",
      "Difference is: 0.006783452027115167\n"
     ]
    }
   ],
   "source": [
    "rf=RandomForestRegressor(criterion=clf.best_params_['criterion'],max_features=clf.best_params_['max_features'])\n",
    "rf.fit(x_train,y_train)\n",
    "rf.score(x_train,y_train)\n",
    "pred_decision=rf.predict(x_test)\n",
    "\n",
    "rfs=r2_score(y_test,pred_decision)\n",
    "print(\"R2 Score:\",rfs*100)\n",
    "\n",
    "rfscore=cross_val_score(rf,features,target,cv=5)\n",
    "rfc=rfscore.mean()\n",
    "print(\"Cross Val Score:\",rfc*100)\n",
    "print(\"Difference is:\",r2_score(y_test,pred_decision)-rfc)\n"
   ]
  },
  {
   "cell_type": "code",
   "execution_count": 41,
   "id": "b3148838",
   "metadata": {},
   "outputs": [
    {
     "data": {
      "text/html": [
       "<div>\n",
       "<style scoped>\n",
       "    .dataframe tbody tr th:only-of-type {\n",
       "        vertical-align: middle;\n",
       "    }\n",
       "\n",
       "    .dataframe tbody tr th {\n",
       "        vertical-align: top;\n",
       "    }\n",
       "\n",
       "    .dataframe thead th {\n",
       "        text-align: right;\n",
       "    }\n",
       "</style>\n",
       "<table border=\"1\" class=\"dataframe\">\n",
       "  <thead>\n",
       "    <tr style=\"text-align: right;\">\n",
       "      <th></th>\n",
       "      <th>predicted_values</th>\n",
       "      <th>original_values</th>\n",
       "    </tr>\n",
       "  </thead>\n",
       "  <tbody>\n",
       "    <tr>\n",
       "      <th>281</th>\n",
       "      <td>48414.006007</td>\n",
       "      <td>48549.17835</td>\n",
       "    </tr>\n",
       "    <tr>\n",
       "      <th>164</th>\n",
       "      <td>9315.265762</td>\n",
       "      <td>5028.14660</td>\n",
       "    </tr>\n",
       "    <tr>\n",
       "      <th>565</th>\n",
       "      <td>2470.708649</td>\n",
       "      <td>2128.43105</td>\n",
       "    </tr>\n",
       "    <tr>\n",
       "      <th>1156</th>\n",
       "      <td>39121.259812</td>\n",
       "      <td>39722.74620</td>\n",
       "    </tr>\n",
       "    <tr>\n",
       "      <th>1043</th>\n",
       "      <td>3618.448935</td>\n",
       "      <td>3161.45400</td>\n",
       "    </tr>\n",
       "    <tr>\n",
       "      <th>1111</th>\n",
       "      <td>42509.598872</td>\n",
       "      <td>41949.24410</td>\n",
       "    </tr>\n",
       "    <tr>\n",
       "      <th>57</th>\n",
       "      <td>35664.147972</td>\n",
       "      <td>34303.16720</td>\n",
       "    </tr>\n",
       "    <tr>\n",
       "      <th>560</th>\n",
       "      <td>9516.828625</td>\n",
       "      <td>9193.83850</td>\n",
       "    </tr>\n",
       "    <tr>\n",
       "      <th>687</th>\n",
       "      <td>5871.788684</td>\n",
       "      <td>5438.74910</td>\n",
       "    </tr>\n",
       "    <tr>\n",
       "      <th>1122</th>\n",
       "      <td>47683.012467</td>\n",
       "      <td>46661.44240</td>\n",
       "    </tr>\n",
       "    <tr>\n",
       "      <th>923</th>\n",
       "      <td>8295.909365</td>\n",
       "      <td>4320.41085</td>\n",
       "    </tr>\n",
       "    <tr>\n",
       "      <th>840</th>\n",
       "      <td>9448.010177</td>\n",
       "      <td>1526.31200</td>\n",
       "    </tr>\n",
       "    <tr>\n",
       "      <th>459</th>\n",
       "      <td>7943.814956</td>\n",
       "      <td>7682.67000</td>\n",
       "    </tr>\n",
       "    <tr>\n",
       "      <th>1216</th>\n",
       "      <td>6085.612295</td>\n",
       "      <td>5415.66120</td>\n",
       "    </tr>\n",
       "    <tr>\n",
       "      <th>737</th>\n",
       "      <td>5008.999353</td>\n",
       "      <td>3484.33100</td>\n",
       "    </tr>\n",
       "    <tr>\n",
       "      <th>230</th>\n",
       "      <td>7820.395427</td>\n",
       "      <td>7443.64305</td>\n",
       "    </tr>\n",
       "    <tr>\n",
       "      <th>1209</th>\n",
       "      <td>22426.879866</td>\n",
       "      <td>12347.17200</td>\n",
       "    </tr>\n",
       "    <tr>\n",
       "      <th>768</th>\n",
       "      <td>14189.979954</td>\n",
       "      <td>14319.03100</td>\n",
       "    </tr>\n",
       "    <tr>\n",
       "      <th>172</th>\n",
       "      <td>1705.910562</td>\n",
       "      <td>1694.79640</td>\n",
       "    </tr>\n",
       "    <tr>\n",
       "      <th>1028</th>\n",
       "      <td>11572.518623</td>\n",
       "      <td>9850.43200</td>\n",
       "    </tr>\n",
       "  </tbody>\n",
       "</table>\n",
       "</div>"
      ],
      "text/plain": [
       "      predicted_values  original_values\n",
       "281       48414.006007      48549.17835\n",
       "164        9315.265762       5028.14660\n",
       "565        2470.708649       2128.43105\n",
       "1156      39121.259812      39722.74620\n",
       "1043       3618.448935       3161.45400\n",
       "1111      42509.598872      41949.24410\n",
       "57        35664.147972      34303.16720\n",
       "560        9516.828625       9193.83850\n",
       "687        5871.788684       5438.74910\n",
       "1122      47683.012467      46661.44240\n",
       "923        8295.909365       4320.41085\n",
       "840        9448.010177       1526.31200\n",
       "459        7943.814956       7682.67000\n",
       "1216       6085.612295       5415.66120\n",
       "737        5008.999353       3484.33100\n",
       "230        7820.395427       7443.64305\n",
       "1209      22426.879866      12347.17200\n",
       "768       14189.979954      14319.03100\n",
       "172        1705.910562       1694.79640\n",
       "1028      11572.518623       9850.43200"
      ]
     },
     "execution_count": 41,
     "metadata": {},
     "output_type": "execute_result"
    }
   ],
   "source": [
    "# models = [LinearRegression(),XGBRegressor(),RandomForestRegressor(),AdaBoostRegressor(),Lasso(),Ridge(),\n",
    "#          DecisionTreeRegressor(),KNeighborsRegressor(),SGDRegressor(),\n",
    "#          SVR(),ElasticNet(),GradientBoostingRegressor()]\n",
    "#models[2] ===RandomForestRegressor()\n",
    "x_predict = list(models[2].predict(x_test))\n",
    "predicted_df = {'predicted_values': x_predict, 'original_values': y_test}\n",
    "#creating new dataframe\n",
    "pd.DataFrame(predicted_df).head(20)"
   ]
  },
  {
   "cell_type": "code",
   "execution_count": 42,
   "id": "38f862f5",
   "metadata": {},
   "outputs": [
    {
     "data": {
      "text/plain": [
       "Text(0, 0.5, 'Predicted Y')"
      ]
     },
     "execution_count": 42,
     "metadata": {},
     "output_type": "execute_result"
    },
    {
     "data": {
      "image/png": "[encoded data removed]",
      "text/plain": [
       "<Figure size 432x288 with 1 Axes>"
      ]
     },
     "metadata": {
      "needs_background": "light"
     },
     "output_type": "display_data"
    }
   ],
   "source": [
    "plt.scatter(y_test,x_predict)\n",
    "plt.xlabel('Y Test')\n",
    "plt.ylabel('Predicted Y')"
   ]
  },
  {
   "cell_type": "code",
   "execution_count": 43,
   "id": "2b41427a",
   "metadata": {},
   "outputs": [
    {
     "data": {
      "text/html": [
       "<div>\n",
       "<style scoped>\n",
       "    .dataframe tbody tr th:only-of-type {\n",
       "        vertical-align: middle;\n",
       "    }\n",
       "\n",
       "    .dataframe tbody tr th {\n",
       "        vertical-align: top;\n",
       "    }\n",
       "\n",
       "    .dataframe thead th {\n",
       "        text-align: right;\n",
       "    }\n",
       "</style>\n",
       "<table border=\"1\" class=\"dataframe\">\n",
       "  <thead>\n",
       "    <tr style=\"text-align: right;\">\n",
       "      <th></th>\n",
       "      <th>age</th>\n",
       "      <th>sex</th>\n",
       "      <th>bmi</th>\n",
       "      <th>children</th>\n",
       "      <th>smoker</th>\n",
       "      <th>region</th>\n",
       "    </tr>\n",
       "  </thead>\n",
       "  <tbody>\n",
       "    <tr>\n",
       "      <th>1</th>\n",
       "      <td>40</td>\n",
       "      <td>1</td>\n",
       "      <td>45.5</td>\n",
       "      <td>4</td>\n",
       "      <td>0</td>\n",
       "      <td>3</td>\n",
       "    </tr>\n",
       "  </tbody>\n",
       "</table>\n",
       "</div>"
      ],
      "text/plain": [
       "   age  sex   bmi  children  smoker  region\n",
       "1   40    1  45.5         4       0       3"
      ]
     },
     "execution_count": 43,
     "metadata": {},
     "output_type": "execute_result"
    }
   ],
   "source": [
    "#Predict for new customer\n",
    "data ={'age' : 40,\n",
    "        'sex' : 1,\n",
    "        'bmi' : 45.50,\n",
    "        'children' : 4,\n",
    "        'smoker' : 0,\n",
    "        'region' : 3}\n",
    "index = [1]\n",
    "newcust_df = pd.DataFrame(data,index)\n",
    "newcust_df\n"
   ]
  },
  {
   "cell_type": "code",
   "execution_count": 44,
   "id": "8f5e10b9",
   "metadata": {},
   "outputs": [
    {
     "name": "stdout",
     "output_type": "stream",
     "text": [
      "[47576.0240567]\n"
     ]
    }
   ],
   "source": [
    "#Predict for new customer\n",
    "#models[2] ===RandomForestRegressor()\n",
    "medical_charges_predict =models[2].predict(newcust_df)\n",
    "print(medical_charges_predict)\n"
   ]
  },
  {
   "cell_type": "markdown",
   "id": "8da9b1ec",
   "metadata": {},
   "source": [
    "# Save Model"
   ]
  },
  {
   "cell_type": "code",
   "execution_count": 45,
   "id": "9f9ecee9",
   "metadata": {},
   "outputs": [],
   "source": [
    "# models = [LinearRegression(),XGBRegressor(),RandomForestRegressor(),AdaBoostRegressor(),Lasso(),Ridge(),\n",
    "#          DecisionTreeRegressor(),KNeighborsRegressor(),SGDRegressor(),\n",
    "#          SVR(),ElasticNet(),GradientBoostingRegressor()]\n",
    "#models[2] ===RandomForestRegressor()\n",
    "import pickle\n",
    "file = 'MedicalInsuranceCost'\n",
    "save = pickle.dump(models[2],open('models_medical.pkl','wb'))\n"
   ]
  },
  {
   "cell_type": "markdown",
   "id": "0f2103a3",
   "metadata": {},
   "source": [
    "# Conclusion"
   ]
  },
  {
   "cell_type": "code",
   "execution_count": 46,
   "id": "4faa7fa3",
   "metadata": {},
   "outputs": [
    {
     "name": "stdout",
     "output_type": "stream",
     "text": [
      "0.8426967126451312\n"
     ]
    },
    {
     "data": {
      "text/html": [
       "<div>\n",
       "<style scoped>\n",
       "    .dataframe tbody tr th:only-of-type {\n",
       "        vertical-align: middle;\n",
       "    }\n",
       "\n",
       "    .dataframe tbody tr th {\n",
       "        vertical-align: top;\n",
       "    }\n",
       "\n",
       "    .dataframe thead th {\n",
       "        text-align: right;\n",
       "    }\n",
       "</style>\n",
       "<table border=\"1\" class=\"dataframe\">\n",
       "  <thead>\n",
       "    <tr style=\"text-align: right;\">\n",
       "      <th></th>\n",
       "      <th>Predicted</th>\n",
       "      <th>Original</th>\n",
       "    </tr>\n",
       "  </thead>\n",
       "  <tbody>\n",
       "    <tr>\n",
       "      <th>0</th>\n",
       "      <td>48414.006007</td>\n",
       "      <td>48549.17835</td>\n",
       "    </tr>\n",
       "    <tr>\n",
       "      <th>1</th>\n",
       "      <td>9315.265762</td>\n",
       "      <td>5028.14660</td>\n",
       "    </tr>\n",
       "    <tr>\n",
       "      <th>2</th>\n",
       "      <td>2470.708649</td>\n",
       "      <td>2128.43105</td>\n",
       "    </tr>\n",
       "    <tr>\n",
       "      <th>3</th>\n",
       "      <td>39121.259812</td>\n",
       "      <td>39722.74620</td>\n",
       "    </tr>\n",
       "    <tr>\n",
       "      <th>4</th>\n",
       "      <td>3618.448935</td>\n",
       "      <td>3161.45400</td>\n",
       "    </tr>\n",
       "    <tr>\n",
       "      <th>...</th>\n",
       "      <td>...</td>\n",
       "      <td>...</td>\n",
       "    </tr>\n",
       "    <tr>\n",
       "      <th>259</th>\n",
       "      <td>3253.630220</td>\n",
       "      <td>3378.91000</td>\n",
       "    </tr>\n",
       "    <tr>\n",
       "      <th>260</th>\n",
       "      <td>14622.822285</td>\n",
       "      <td>10959.69470</td>\n",
       "    </tr>\n",
       "    <tr>\n",
       "      <th>261</th>\n",
       "      <td>22130.270718</td>\n",
       "      <td>18767.73770</td>\n",
       "    </tr>\n",
       "    <tr>\n",
       "      <th>262</th>\n",
       "      <td>4936.199502</td>\n",
       "      <td>4399.73100</td>\n",
       "    </tr>\n",
       "    <tr>\n",
       "      <th>263</th>\n",
       "      <td>44938.211529</td>\n",
       "      <td>44202.65360</td>\n",
       "    </tr>\n",
       "  </tbody>\n",
       "</table>\n",
       "<p>264 rows × 2 columns</p>\n",
       "</div>"
      ],
      "text/plain": [
       "        Predicted     Original\n",
       "0    48414.006007  48549.17835\n",
       "1     9315.265762   5028.14660\n",
       "2     2470.708649   2128.43105\n",
       "3    39121.259812  39722.74620\n",
       "4     3618.448935   3161.45400\n",
       "..            ...          ...\n",
       "259   3253.630220   3378.91000\n",
       "260  14622.822285  10959.69470\n",
       "261  22130.270718  18767.73770\n",
       "262   4936.199502   4399.73100\n",
       "263  44938.211529  44202.65360\n",
       "\n",
       "[264 rows x 2 columns]"
      ]
     },
     "execution_count": 46,
     "metadata": {},
     "output_type": "execute_result"
    }
   ],
   "source": [
    "#models[2] ===RandomForestRegressor()\n",
    "pickled_model_medical = pickle.load(open('models_medical.pkl','rb'))\n",
    "result=pickled_model_medical.score(x_test,y_test)\n",
    "print(result)\n",
    "\n",
    "conclusion=pd.DataFrame([pickled_model_medical.predict(x_test)[:],y_test[:]],index=[\"Predicted\",\"Original\"])\n",
    "conclusion.T"
   ]
  }
 ],
 "metadata": {
  "kernelspec": {
   "display_name": "Python 3 (ipykernel)",
   "language": "python",
   "name": "python3"
  },
  "language_info": {
   "codemirror_mode": {
    "name": "ipython",
    "version": 3
   },
   "file_extension": ".py",
   "mimetype": "text/x-python",
   "name": "python",
   "nbconvert_exporter": "python",
   "pygments_lexer": "ipython3",
   "version": "3.9.12"
  }
 },
 "nbformat": 4,
 "nbformat_minor": 5
}
